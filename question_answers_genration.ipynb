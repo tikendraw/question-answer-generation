{
 "cells": [
  {
   "cell_type": "markdown",
   "id": "b458cdaf-4222-4be4-973d-834b0b7f6a3b",
   "metadata": {},
   "source": [
    "# Question Answers Generations Model"
   ]
  },
  {
   "cell_type": "code",
   "execution_count": 1,
   "id": "9e422643-086d-43b3-b989-4c28d88cc0a3",
   "metadata": {},
   "outputs": [
    {
     "name": "stderr",
     "output_type": "stream",
     "text": [
      "2023-01-25 16:43:24.086099: I tensorflow/core/platform/cpu_feature_guard.cc:193] This TensorFlow binary is optimized with oneAPI Deep Neural Network Library (oneDNN) to use the following CPU instructions in performance-critical operations:  AVX2 FMA\n",
      "To enable them in other operations, rebuild TensorFlow with the appropriate compiler flags.\n",
      "2023-01-25 16:43:24.593697: E tensorflow/stream_executor/cuda/cuda_blas.cc:2981] Unable to register cuBLAS factory: Attempting to register factory for plugin cuBLAS when one has already been registered\n",
      "2023-01-25 16:43:25.828709: W tensorflow/stream_executor/platform/default/dso_loader.cc:64] Could not load dynamic library 'libnvinfer.so.7'; dlerror: libnvinfer.so.7: cannot open shared object file: No such file or directory; LD_LIBRARY_PATH: :/home/t/miniconda3/envs/tf/lib/\n",
      "2023-01-25 16:43:25.828799: W tensorflow/stream_executor/platform/default/dso_loader.cc:64] Could not load dynamic library 'libnvinfer_plugin.so.7'; dlerror: libnvinfer_plugin.so.7: cannot open shared object file: No such file or directory; LD_LIBRARY_PATH: :/home/t/miniconda3/envs/tf/lib/\n",
      "2023-01-25 16:43:25.828807: W tensorflow/compiler/tf2tensorrt/utils/py_utils.cc:38] TF-TRT Warning: Cannot dlopen some TensorRT libraries. If you would like to use Nvidia GPU with TensorRT, please make sure the missing libraries mentioned above are installed properly.\n"
     ]
    },
    {
     "name": "stdout",
     "output_type": "stream",
     "text": [
      "Tf version:  2.10.0\n",
      "GPU:  1\n",
      "[PhysicalDevice(name='/physical_device:GPU:0', device_type='GPU')]\n",
      "None\n"
     ]
    },
    {
     "name": "stderr",
     "output_type": "stream",
     "text": [
      "2023-01-25 16:43:28.290882: I tensorflow/stream_executor/cuda/cuda_gpu_executor.cc:980] successful NUMA node read from SysFS had negative value (-1), but there must be at least one NUMA node, so returning NUMA node zero\n",
      "2023-01-25 16:43:28.336493: I tensorflow/stream_executor/cuda/cuda_gpu_executor.cc:980] successful NUMA node read from SysFS had negative value (-1), but there must be at least one NUMA node, so returning NUMA node zero\n",
      "2023-01-25 16:43:28.336858: I tensorflow/stream_executor/cuda/cuda_gpu_executor.cc:980] successful NUMA node read from SysFS had negative value (-1), but there must be at least one NUMA node, so returning NUMA node zero\n"
     ]
    }
   ],
   "source": [
    "# Dependencies\n",
    "import pandas as pd\n",
    "import polars as pl\n",
    "import numpy as np\n",
    "import tensorflow as tf\n",
    "from tensorflow import keras\n",
    "from tensorflow.keras import layers, Model , optimizers\n",
    "from tensorflow.keras.layers import Attention, LSTM, Bidirectional, Dense, MaxPooling1D, GlobalAveragePooling1D, GlobalMaxPooling1D, AveragePooling1D, Dropout, concatenate, Concatenate\n",
    "\n",
    "import seaborn as sns\n",
    "import matplotlib.pyplot as plt\n",
    "\n",
    "# !pip install tensorflow_hub\n",
    "import tensorflow_hub as hub\n",
    "import os\n",
    "import re\n",
    "import json\n",
    "\n",
    "print('Tf version: ',tf.__version__)\n",
    "print('GPU: ', len(tf.config.list_physical_devices('GPU')))\n",
    "import tensorflow as tf\n",
    "\n",
    "os.environ['TF_CPP_MIN_LOG_LEVEL'] = '3' \n",
    "os.environ[\"TFHUB_CACHE_DIR\"] = './tmp/tfhub'\n",
    "\n",
    "\"\"\"\"\"\"\"\"\"\"\"\"\"\"\"\"\"\"\"\"\"\"\"\"\"\"\"\"\"\"\"\"\"\"\"\"\"\"\"\"\"\"\"\"\"\"\"\"\"\"\"\"\"\"\"\"\"\n",
    "[PhysicalDevice(name='/physical_device:GPU:0', device_type='GPU')]\n",
    "None\n",
    "\"\"\"\"\"\"\"\"\"\"\"\"\"\"\"\"\"\"\"\"\"\"\"\"\"\"\"\"\"\"\"\"\"\"\"\"\"\"\"\"\"\"\"\"\"\"\"\"\"\"\"\"\"\"\"\"\"\n",
    "physical_devices = tf.config.experimental.list_physical_devices('GPU')\n",
    "assert len(physical_devices) > 0, \"Not enough GPU hardware devices available\"\n",
    "config = tf.config.experimental.set_memory_growth(physical_devices[0], True)\n",
    "print(physical_devices)\n",
    "print(config)\n",
    "\n",
    "def download_USEncoder():\n",
    "\n",
    "    print('downloading universal sentence encoder...')\n",
    "    !wget https://storage.googleapis.com/tfhub-modules/google/universal-sentence-encoder/4.tar.gz\n",
    "    print('Downloaded universal sentence encoder.')\n",
    "    # Extracting\n",
    "    try:\n",
    "        !mkdir universal_sentence_encoder\n",
    "        print('Extracting universal sentence encoder....')\n",
    "        ! tar -xf 4.tar.gz --directory ./universal_sentence_encoder\n",
    "        print('Extracted.')\n",
    "    except Exception as e:\n",
    "        print(e)\n"
   ]
  },
  {
   "cell_type": "code",
   "execution_count": 2,
   "id": "99e0f09b-dc40-4f35-9027-7688e05d8e28",
   "metadata": {},
   "outputs": [
    {
     "name": "stdout",
     "output_type": "stream",
     "text": [
      "<class 'pandas.core.frame.DataFrame'>\n",
      "RangeIndex: 86821 entries, 0 to 86820\n",
      "Data columns (total 5 columns):\n",
      " #   Column        Non-Null Count  Dtype \n",
      "---  ------        --------------  ----- \n",
      " 0                 86821 non-null  int64 \n",
      " 1   title         86821 non-null  object\n",
      " 2   context       86821 non-null  object\n",
      " 3   questions     86821 non-null  object\n",
      " 4   final_answer  86821 non-null  object\n",
      "dtypes: int64(1), object(4)\n",
      "memory usage: 3.3+ MB\n"
     ]
    },
    {
     "data": {
      "text/plain": [
       "((86821, 5), None, polars.internals.dataframe.frame.DataFrame)"
      ]
     },
     "execution_count": 2,
     "metadata": {},
     "output_type": "execute_result"
    }
   ],
   "source": [
    "# get the data\n",
    "df = pl.read_csv('dataset/train_data_cleaned.csv')\n",
    "df.shape, df.to_pandas().info(), type(df)"
   ]
  },
  {
   "cell_type": "code",
   "execution_count": 3,
   "id": "99f3d9f6-8baa-4a19-a743-bcf64c1fbd8e",
   "metadata": {},
   "outputs": [
    {
     "data": {
      "text/html": [
       "<div>\n",
       "<style scoped>\n",
       "    .dataframe tbody tr th:only-of-type {\n",
       "        vertical-align: middle;\n",
       "    }\n",
       "\n",
       "    .dataframe tbody tr th {\n",
       "        vertical-align: top;\n",
       "    }\n",
       "\n",
       "    .dataframe thead th {\n",
       "        text-align: right;\n",
       "    }\n",
       "\n",
       "    .dataframe td {\n",
       "        white-space: pre;\n",
       "    }\n",
       "\n",
       "    .dataframe td {\n",
       "        padding-top: 0;\n",
       "    }\n",
       "\n",
       "    .dataframe td {\n",
       "        padding-bottom: 0;\n",
       "    }\n",
       "\n",
       "    .dataframe td {\n",
       "        line-height: 95%;\n",
       "    }\n",
       "</style>\n",
       "<table border=\"1\" class=\"dataframe\">\n",
       "<small>shape: (5, 5)</small>\n",
       "<thead>\n",
       "<tr>\n",
       "<th>\n",
       "\n",
       "</th>\n",
       "<th>\n",
       "title\n",
       "</th>\n",
       "<th>\n",
       "context\n",
       "</th>\n",
       "<th>\n",
       "questions\n",
       "</th>\n",
       "<th>\n",
       "final_answer\n",
       "</th>\n",
       "</tr>\n",
       "<tr>\n",
       "<td>\n",
       "i64\n",
       "</td>\n",
       "<td>\n",
       "str\n",
       "</td>\n",
       "<td>\n",
       "str\n",
       "</td>\n",
       "<td>\n",
       "str\n",
       "</td>\n",
       "<td>\n",
       "str\n",
       "</td>\n",
       "</tr>\n",
       "</thead>\n",
       "<tbody>\n",
       "<tr>\n",
       "<td>\n",
       "78308\n",
       "</td>\n",
       "<td>\n",
       "&quot;A_cappella&quot;\n",
       "</td>\n",
       "<td>\n",
       "&quot;The Swingle Si...\n",
       "</td>\n",
       "<td>\n",
       "&quot;What was used ...\n",
       "</td>\n",
       "<td>\n",
       "&quot;a four-track r...\n",
       "</td>\n",
       "</tr>\n",
       "<tr>\n",
       "<td>\n",
       "74480\n",
       "</td>\n",
       "<td>\n",
       "&quot;Carnival&quot;\n",
       "</td>\n",
       "<td>\n",
       "&quot;The Strumica C...\n",
       "</td>\n",
       "<td>\n",
       "&quot;How long has t...\n",
       "</td>\n",
       "<td>\n",
       "&quot;since at least...\n",
       "</td>\n",
       "</tr>\n",
       "<tr>\n",
       "<td>\n",
       "129662\n",
       "</td>\n",
       "<td>\n",
       "&quot;Hunting&quot;\n",
       "</td>\n",
       "<td>\n",
       "&quot;A variety of i...\n",
       "</td>\n",
       "<td>\n",
       "&quot;Where does the...\n",
       "</td>\n",
       "<td>\n",
       "&quot;in tented camp...\n",
       "</td>\n",
       "</tr>\n",
       "<tr>\n",
       "<td>\n",
       "25465\n",
       "</td>\n",
       "<td>\n",
       "&quot;Brain&quot;\n",
       "</td>\n",
       "<td>\n",
       "&quot;Physiologicall...\n",
       "</td>\n",
       "<td>\n",
       "&quot;Reflexes only ...\n",
       "</td>\n",
       "<td>\n",
       "&quot;spinal cord or...\n",
       "</td>\n",
       "</tr>\n",
       "<tr>\n",
       "<td>\n",
       "107916\n",
       "</td>\n",
       "<td>\n",
       "&quot;Antenna_(radio...\n",
       "</td>\n",
       "<td>\n",
       "&quot;Recall that a ...\n",
       "</td>\n",
       "<td>\n",
       "&quot;How is this pr...\n",
       "</td>\n",
       "<td>\n",
       "&quot;balun&quot;\n",
       "</td>\n",
       "</tr>\n",
       "</tbody>\n",
       "</table>\n",
       "</div>"
      ],
      "text/plain": [
       "shape: (5, 5)\n",
       "┌────────┬─────────────────┬───────────────────────┬───────────────────────┬───────────────────────┐\n",
       "│        ┆ title           ┆ context               ┆ questions             ┆ final_answer          │\n",
       "│ ---    ┆ ---             ┆ ---                   ┆ ---                   ┆ ---                   │\n",
       "│ i64    ┆ str             ┆ str                   ┆ str                   ┆ str                   │\n",
       "╞════════╪═════════════════╪═══════════════════════╪═══════════════════════╪═══════════════════════╡\n",
       "│ 78308  ┆ A_cappella      ┆ The Swingle Singers   ┆ What was used to make ┆ a four-track recorder │\n",
       "│        ┆                 ┆ used nonsens...       ┆ an a capel...         ┆                       │\n",
       "│ 74480  ┆ Carnival        ┆ The Strumica Carnival ┆ How long has the      ┆ since at least 1670   │\n",
       "│        ┆                 ┆ (Macedonia...         ┆ Strumica Carniv...    ┆                       │\n",
       "│ 129662 ┆ Hunting         ┆ A variety of          ┆ Where does the        ┆ in tented camps       │\n",
       "│        ┆                 ┆ industries benefit    ┆ typical safari hu...  ┆                       │\n",
       "│        ┆                 ┆ ...                   ┆                       ┆                       │\n",
       "│ 25465  ┆ Brain           ┆ Physiologically, the  ┆ Reflexes only require ┆ spinal cord or        │\n",
       "│        ┆                 ┆ function of...        ┆ one of wha...         ┆ peripheral gangli...  │\n",
       "│ 107916 ┆ Antenna_(radio) ┆ Recall that a current ┆ How is this process   ┆ balun                 │\n",
       "│        ┆                 ┆ will refle...         ┆ usually used...       ┆                       │\n",
       "└────────┴─────────────────┴───────────────────────┴───────────────────────┴───────────────────────┘"
      ]
     },
     "execution_count": 3,
     "metadata": {},
     "output_type": "execute_result"
    }
   ],
   "source": [
    "df.sample(5)"
   ]
  },
  {
   "cell_type": "code",
   "execution_count": 4,
   "id": "8f1bb619-b25e-46d7-bc9f-bfb3d8151b76",
   "metadata": {},
   "outputs": [
    {
     "data": {
      "text/html": [
       "<div>\n",
       "<style scoped>\n",
       "    .dataframe tbody tr th:only-of-type {\n",
       "        vertical-align: middle;\n",
       "    }\n",
       "\n",
       "    .dataframe tbody tr th {\n",
       "        vertical-align: top;\n",
       "    }\n",
       "\n",
       "    .dataframe thead th {\n",
       "        text-align: right;\n",
       "    }\n",
       "\n",
       "    .dataframe td {\n",
       "        white-space: pre;\n",
       "    }\n",
       "\n",
       "    .dataframe td {\n",
       "        padding-top: 0;\n",
       "    }\n",
       "\n",
       "    .dataframe td {\n",
       "        padding-bottom: 0;\n",
       "    }\n",
       "\n",
       "    .dataframe td {\n",
       "        line-height: 95%;\n",
       "    }\n",
       "</style>\n",
       "<table border=\"1\" class=\"dataframe\">\n",
       "<small>shape: (1, 5)</small>\n",
       "<thead>\n",
       "<tr>\n",
       "<th>\n",
       "\n",
       "</th>\n",
       "<th>\n",
       "title\n",
       "</th>\n",
       "<th>\n",
       "context\n",
       "</th>\n",
       "<th>\n",
       "questions\n",
       "</th>\n",
       "<th>\n",
       "final_answer\n",
       "</th>\n",
       "</tr>\n",
       "<tr>\n",
       "<td>\n",
       "u32\n",
       "</td>\n",
       "<td>\n",
       "u32\n",
       "</td>\n",
       "<td>\n",
       "u32\n",
       "</td>\n",
       "<td>\n",
       "u32\n",
       "</td>\n",
       "<td>\n",
       "u32\n",
       "</td>\n",
       "</tr>\n",
       "</thead>\n",
       "<tbody>\n",
       "<tr>\n",
       "<td>\n",
       "0\n",
       "</td>\n",
       "<td>\n",
       "0\n",
       "</td>\n",
       "<td>\n",
       "0\n",
       "</td>\n",
       "<td>\n",
       "0\n",
       "</td>\n",
       "<td>\n",
       "0\n",
       "</td>\n",
       "</tr>\n",
       "</tbody>\n",
       "</table>\n",
       "</div>"
      ],
      "text/plain": [
       "shape: (1, 5)\n",
       "┌─────┬───────┬─────────┬───────────┬──────────────┐\n",
       "│     ┆ title ┆ context ┆ questions ┆ final_answer │\n",
       "│ --- ┆ ---   ┆ ---     ┆ ---       ┆ ---          │\n",
       "│ u32 ┆ u32   ┆ u32     ┆ u32       ┆ u32          │\n",
       "╞═════╪═══════╪═════════╪═══════════╪══════════════╡\n",
       "│ 0   ┆ 0     ┆ 0       ┆ 0         ┆ 0            │\n",
       "└─────┴───────┴─────────┴───────────┴──────────────┘"
      ]
     },
     "execution_count": 4,
     "metadata": {},
     "output_type": "execute_result"
    }
   ],
   "source": [
    "# null check\n",
    "df.null_count()"
   ]
  },
  {
   "cell_type": "code",
   "execution_count": 5,
   "id": "4bc872fd-426e-4ee3-9888-f7130bc8a512",
   "metadata": {},
   "outputs": [
    {
     "name": "stdout",
     "output_type": "stream",
     "text": [
      "Null removed\n"
     ]
    }
   ],
   "source": [
    "#drop nulls\n",
    "df.drop_nulls()\n",
    "print('Null removed')"
   ]
  },
  {
   "cell_type": "markdown",
   "id": "eaed5550-5a85-4dcc-a3a2-7321e96df0b6",
   "metadata": {},
   "source": [
    "# Here we will add a new columns to data which can be a switch wheather we want question and ans from model or just answers"
   ]
  },
  {
   "cell_type": "code",
   "execution_count": 6,
   "id": "bca9356c-557d-4590-9fe7-8e859c269af7",
   "metadata": {},
   "outputs": [],
   "source": [
    "modes = {\n",
    "    'find_answers':0,\n",
    "    'geneate_questions': 1\n",
    "    }\n"
   ]
  },
  {
   "cell_type": "markdown",
   "id": "2505336e-9cb9-43cf-afef-85d97f66e21d",
   "metadata": {},
   "source": [
    "I would like to add the `title` column to `context` . there will a columns less to process."
   ]
  },
  {
   "cell_type": "code",
   "execution_count": 7,
   "id": "160490a9-4b2a-4a1f-96fe-33cb506ebc6c",
   "metadata": {},
   "outputs": [],
   "source": [
    "df = df.with_column(\n",
    "    (pl.col('title') + '  ' +pl.col('context')).alias('newcontext')\n",
    ")"
   ]
  },
  {
   "cell_type": "code",
   "execution_count": 8,
   "id": "50bf7da2-0f4a-4cef-8b3b-a0bcb82453e5",
   "metadata": {},
   "outputs": [],
   "source": [
    "df = df.with_columns([\n",
    "    (pl.col(\"context\").apply(lambda x: len(str(x).split(' '))).alias(\"context_len\")),\n",
    "    (pl.col(\"newcontext\").apply(lambda x: len(str(x).split(' '))).alias(\"newcontext_len\")),\n",
    "    (pl.col(\"questions\").apply(lambda x: len(str(x).split(' '))).alias(\"question_len\")),\n",
    "    (pl.col(\"final_answer\").apply(lambda x: len(str(x).split(' '))).alias(\"answer_len\"))])"
   ]
  },
  {
   "cell_type": "code",
   "execution_count": 9,
   "id": "b664f195-7b93-4810-853e-95921a9ca20a",
   "metadata": {},
   "outputs": [
    {
     "data": {
      "text/html": [
       "<div>\n",
       "<style scoped>\n",
       "    .dataframe tbody tr th:only-of-type {\n",
       "        vertical-align: middle;\n",
       "    }\n",
       "\n",
       "    .dataframe tbody tr th {\n",
       "        vertical-align: top;\n",
       "    }\n",
       "\n",
       "    .dataframe thead th {\n",
       "        text-align: right;\n",
       "    }\n",
       "\n",
       "    .dataframe td {\n",
       "        white-space: pre;\n",
       "    }\n",
       "\n",
       "    .dataframe td {\n",
       "        padding-top: 0;\n",
       "    }\n",
       "\n",
       "    .dataframe td {\n",
       "        padding-bottom: 0;\n",
       "    }\n",
       "\n",
       "    .dataframe td {\n",
       "        line-height: 95%;\n",
       "    }\n",
       "</style>\n",
       "<table border=\"1\" class=\"dataframe\">\n",
       "<small>shape: (5, 10)</small>\n",
       "<thead>\n",
       "<tr>\n",
       "<th>\n",
       "\n",
       "</th>\n",
       "<th>\n",
       "title\n",
       "</th>\n",
       "<th>\n",
       "context\n",
       "</th>\n",
       "<th>\n",
       "questions\n",
       "</th>\n",
       "<th>\n",
       "final_answer\n",
       "</th>\n",
       "<th>\n",
       "newcontext\n",
       "</th>\n",
       "<th>\n",
       "context_len\n",
       "</th>\n",
       "<th>\n",
       "newcontext_len\n",
       "</th>\n",
       "<th>\n",
       "question_len\n",
       "</th>\n",
       "<th>\n",
       "answer_len\n",
       "</th>\n",
       "</tr>\n",
       "<tr>\n",
       "<td>\n",
       "i64\n",
       "</td>\n",
       "<td>\n",
       "str\n",
       "</td>\n",
       "<td>\n",
       "str\n",
       "</td>\n",
       "<td>\n",
       "str\n",
       "</td>\n",
       "<td>\n",
       "str\n",
       "</td>\n",
       "<td>\n",
       "str\n",
       "</td>\n",
       "<td>\n",
       "i64\n",
       "</td>\n",
       "<td>\n",
       "i64\n",
       "</td>\n",
       "<td>\n",
       "i64\n",
       "</td>\n",
       "<td>\n",
       "i64\n",
       "</td>\n",
       "</tr>\n",
       "</thead>\n",
       "<tbody>\n",
       "<tr>\n",
       "<td>\n",
       "33382\n",
       "</td>\n",
       "<td>\n",
       "&quot;Beer&quot;\n",
       "</td>\n",
       "<td>\n",
       "&quot; The strength ...\n",
       "</td>\n",
       "<td>\n",
       "&quot;What year did ...\n",
       "</td>\n",
       "<td>\n",
       "&quot;2011&quot;\n",
       "</td>\n",
       "<td>\n",
       "&quot;Beer   The str...\n",
       "</td>\n",
       "<td>\n",
       "143\n",
       "</td>\n",
       "<td>\n",
       "145\n",
       "</td>\n",
       "<td>\n",
       "14\n",
       "</td>\n",
       "<td>\n",
       "1\n",
       "</td>\n",
       "</tr>\n",
       "<tr>\n",
       "<td>\n",
       "92400\n",
       "</td>\n",
       "<td>\n",
       "&quot;Samurai&quot;\n",
       "</td>\n",
       "<td>\n",
       "&quot;Originally the...\n",
       "</td>\n",
       "<td>\n",
       "&quot;How long were ...\n",
       "</td>\n",
       "<td>\n",
       "&quot;four-year&quot;\n",
       "</td>\n",
       "<td>\n",
       "&quot;Samurai  Origi...\n",
       "</td>\n",
       "<td>\n",
       "166\n",
       "</td>\n",
       "<td>\n",
       "168\n",
       "</td>\n",
       "<td>\n",
       "9\n",
       "</td>\n",
       "<td>\n",
       "1\n",
       "</td>\n",
       "</tr>\n",
       "<tr>\n",
       "<td>\n",
       "44543\n",
       "</td>\n",
       "<td>\n",
       "&quot;Sexual_orienta...\n",
       "</td>\n",
       "<td>\n",
       "&quot;The variance i...\n",
       "</td>\n",
       "<td>\n",
       "&quot;What did Diamo...\n",
       "</td>\n",
       "<td>\n",
       "&quot;over 7 years 2...\n",
       "</td>\n",
       "<td>\n",
       "&quot;Sexual_orienta...\n",
       "</td>\n",
       "<td>\n",
       "237\n",
       "</td>\n",
       "<td>\n",
       "239\n",
       "</td>\n",
       "<td>\n",
       "7\n",
       "</td>\n",
       "<td>\n",
       "14\n",
       "</td>\n",
       "</tr>\n",
       "<tr>\n",
       "<td>\n",
       "41851\n",
       "</td>\n",
       "<td>\n",
       "&quot;Franco-Prussia...\n",
       "</td>\n",
       "<td>\n",
       "&quot;French infantr...\n",
       "</td>\n",
       "<td>\n",
       "&quot;What modern, m...\n",
       "</td>\n",
       "<td>\n",
       "&quot;Chassepot rifl...\n",
       "</td>\n",
       "<td>\n",
       "&quot;Franco-Prussia...\n",
       "</td>\n",
       "<td>\n",
       "128\n",
       "</td>\n",
       "<td>\n",
       "130\n",
       "</td>\n",
       "<td>\n",
       "9\n",
       "</td>\n",
       "<td>\n",
       "2\n",
       "</td>\n",
       "</tr>\n",
       "<tr>\n",
       "<td>\n",
       "40696\n",
       "</td>\n",
       "<td>\n",
       "&quot;Anti-aircraft_...\n",
       "</td>\n",
       "<td>\n",
       "&quot;Throughout the...\n",
       "</td>\n",
       "<td>\n",
       "&quot;In addition to...\n",
       "</td>\n",
       "<td>\n",
       "&quot;command and co...\n",
       "</td>\n",
       "<td>\n",
       "&quot;Anti-aircraft_...\n",
       "</td>\n",
       "<td>\n",
       "76\n",
       "</td>\n",
       "<td>\n",
       "78\n",
       "</td>\n",
       "<td>\n",
       "17\n",
       "</td>\n",
       "<td>\n",
       "3\n",
       "</td>\n",
       "</tr>\n",
       "</tbody>\n",
       "</table>\n",
       "</div>"
      ],
      "text/plain": [
       "shape: (5, 10)\n",
       "┌───────┬───────────┬───────────┬───────────┬─────┬───────────┬────────────┬────────────┬──────────┐\n",
       "│       ┆ title     ┆ context   ┆ questions ┆ ... ┆ context_l ┆ newcontext ┆ question_l ┆ answer_l │\n",
       "│ ---   ┆ ---       ┆ ---       ┆ ---       ┆     ┆ en        ┆ _len       ┆ en         ┆ en       │\n",
       "│ i64   ┆ str       ┆ str       ┆ str       ┆     ┆ ---       ┆ ---        ┆ ---        ┆ ---      │\n",
       "│       ┆           ┆           ┆           ┆     ┆ i64       ┆ i64        ┆ i64        ┆ i64      │\n",
       "╞═══════╪═══════════╪═══════════╪═══════════╪═════╪═══════════╪════════════╪════════════╪══════════╡\n",
       "│ 33382 ┆ Beer      ┆ The       ┆ What year ┆ ... ┆ 143       ┆ 145        ┆ 14         ┆ 1        │\n",
       "│       ┆           ┆ strength  ┆ did the   ┆     ┆           ┆            ┆            ┆          │\n",
       "│       ┆           ┆ of beers  ┆ brewing   ┆     ┆           ┆            ┆            ┆          │\n",
       "│       ┆           ┆ has       ┆ compan... ┆     ┆           ┆            ┆            ┆          │\n",
       "│       ┆           ┆ climb...  ┆           ┆     ┆           ┆            ┆            ┆          │\n",
       "│ 92400 ┆ Samurai   ┆ Originall ┆ How long  ┆ ... ┆ 166       ┆ 168        ┆ 9          ┆ 1        │\n",
       "│       ┆           ┆ y the     ┆ were the  ┆     ┆           ┆            ┆            ┆          │\n",
       "│       ┆           ┆ Emperor   ┆ toryos'   ┆     ┆           ┆            ┆            ┆          │\n",
       "│       ┆           ┆ and       ┆ terms ... ┆     ┆           ┆            ┆            ┆          │\n",
       "│       ┆           ┆ non-w...  ┆           ┆     ┆           ┆            ┆            ┆          │\n",
       "│ 44543 ┆ Sexual_or ┆ The       ┆ What did  ┆ ... ┆ 237       ┆ 239        ┆ 7          ┆ 14       │\n",
       "│       ┆ ientation ┆ variance  ┆ Diamond   ┆     ┆           ┆            ┆            ┆          │\n",
       "│       ┆           ┆ in preval ┆ find      ┆     ┆           ┆            ┆            ┆          │\n",
       "│       ┆           ┆ ence      ┆ about the ┆     ┆           ┆            ┆            ┆          │\n",
       "│       ┆           ┆ rates...  ┆ ...       ┆     ┆           ┆            ┆            ┆          │\n",
       "│ 41851 ┆ Franco-Pr ┆ French    ┆ What      ┆ ... ┆ 128       ┆ 130        ┆ 9          ┆ 2        │\n",
       "│       ┆ ussian_Wa ┆ infantry  ┆ modern,   ┆     ┆           ┆            ┆            ┆          │\n",
       "│       ┆ r         ┆ were      ┆ mass-prod ┆     ┆           ┆            ┆            ┆          │\n",
       "│       ┆           ┆ equipped  ┆ uced      ┆     ┆           ┆            ┆            ┆          │\n",
       "│       ┆           ┆ wi...     ┆ weapo...  ┆     ┆           ┆            ┆            ┆          │\n",
       "│ 40696 ┆ Anti-airc ┆ Throughou ┆ In        ┆ ... ┆ 76        ┆ 78         ┆ 17         ┆ 3        │\n",
       "│       ┆ raft_warf ┆ t the     ┆ addition  ┆     ┆           ┆            ┆            ┆          │\n",
       "│       ┆ are       ┆ 20th      ┆ to        ┆     ┆           ┆            ┆            ┆          │\n",
       "│       ┆           ┆ century   ┆ sensors   ┆     ┆           ┆            ┆            ┆          │\n",
       "│       ┆           ┆ air ...   ┆ and       ┆     ┆           ┆            ┆            ┆          │\n",
       "│       ┆           ┆           ┆ techn...  ┆     ┆           ┆            ┆            ┆          │\n",
       "└───────┴───────────┴───────────┴───────────┴─────┴───────────┴────────────┴────────────┴──────────┘"
      ]
     },
     "execution_count": 9,
     "metadata": {},
     "output_type": "execute_result"
    }
   ],
   "source": [
    "df.sample(5)"
   ]
  },
  {
   "cell_type": "code",
   "execution_count": null,
   "id": "e0c8d2c2-b7ad-437e-bdcc-d965a84f39f4",
   "metadata": {},
   "outputs": [],
   "source": []
  },
  {
   "cell_type": "markdown",
   "id": "7d7871b6-6bb6-4ef8-aebe-17619e886e64",
   "metadata": {},
   "source": [
    "# Dataset Analysis"
   ]
  },
  {
   "cell_type": "code",
   "execution_count": 10,
   "id": "8f0e4ea3-b0d9-4784-bd4e-e82c28d4faa4",
   "metadata": {},
   "outputs": [],
   "source": [
    "#plotting a verticle axis for 95% mark\n",
    "def dist_info(x, r:tuple = (90,100), bins:int = 100, title = 'old', xlim:list = None, ylim:list = None):\n",
    "    \n",
    "    '''\n",
    "    this function plot distribution of series with axis lines with given range.\n",
    "    \n",
    "    x : series  = series of numbers\n",
    "    r : tuple   =  tuple with low and high values to plot\n",
    "    title : str =  title of the plot\n",
    "    xlim : list = low and high limit to limit the plot\n",
    "    ylim : list = similar to xlim\n",
    "    '''\n",
    "    \n",
    "    print('Percent  ::   words  \\n')\n",
    "    plt.figure(figsize = (25,5))\n",
    "    sns.histplot(x = x, bins = bins)\n",
    "\n",
    "    for percent in range(r[0], r[1]+1):\n",
    "        perc_x = np.percentile(x, percent)\n",
    "        print(f'{percent:6}%  ::   {perc_x} words') \n",
    "        plt.axvline(x = perc_x, color = 'red')\n",
    "        plt.text(x = perc_x, y = 2500+np.random.randint(100, 400), s = f'{percent}%')\n",
    "    \n",
    "    plt.xlim(xlim)\n",
    "    plt.ylim(ylim)\n",
    "    if title =='old':\n",
    "        plt.title(f'Length Distribution of {x.name}')\n",
    "    else:\n",
    "        plt.title(str(title))\n",
    "    # plt.show()\n"
   ]
  },
  {
   "cell_type": "markdown",
   "id": "bcb160f9-5b3e-480b-b350-9d79d0ae4017",
   "metadata": {},
   "source": [
    "## 1. Context"
   ]
  },
  {
   "cell_type": "code",
   "execution_count": 11,
   "id": "3a4cc959-0c82-4355-9f1a-7c08f9061efa",
   "metadata": {},
   "outputs": [
    {
     "name": "stdout",
     "output_type": "stream",
     "text": [
      "Percent  ::   words  \n",
      "\n",
      "    95%  ::   215.0 words\n",
      "    96%  ::   224.0 words\n",
      "    97%  ::   236.0 words\n",
      "    98%  ::   254.0 words\n",
      "    99%  ::   285.0 words\n",
      "   100%  ::   655.0 words\n"
     ]
    },
    {
     "data": {
      "image/png": "[encoded data removed]",
      "text/plain": [
       "<Figure size 2500x500 with 1 Axes>"
      ]
     },
     "metadata": {},
     "output_type": "display_data"
    }
   ],
   "source": [
    "dist_info(df['newcontext_len'], (95,100))\n"
   ]
  },
  {
   "cell_type": "markdown",
   "id": "638cd687-9f59-4389-ad29-38b8c2d25dc1",
   "metadata": {},
   "source": [
    "In Order to Cover 100 percent of the data we need to create input length of 653 words which is too much. while just 213 words cover 95 % of the data. \n",
    "so lets take 500 words as a context input it will cover99% data."
   ]
  },
  {
   "cell_type": "code",
   "execution_count": 12,
   "id": "eb092721-3eb6-48c6-bc74-09b4d6a6e04a",
   "metadata": {},
   "outputs": [],
   "source": [
    "context_input_len = 500 + 2 # for <SOS> AND <EOS>"
   ]
  },
  {
   "cell_type": "code",
   "execution_count": 13,
   "id": "29460077-d2a6-456f-a18c-a4d0e021139e",
   "metadata": {},
   "outputs": [],
   "source": [
    "# Unique words in  context\n",
    "# all_words = [i.split() for i in df['newcontext']]"
   ]
  },
  {
   "cell_type": "markdown",
   "id": "613ab202-f672-47e0-9853-bc88597d2427",
   "metadata": {},
   "source": [
    "## 2. Questions"
   ]
  },
  {
   "cell_type": "code",
   "execution_count": 14,
   "id": "cbf28125-b189-4cd6-bab7-c41f769036ae",
   "metadata": {},
   "outputs": [
    {
     "data": {
      "text/plain": [
       "25601"
      ]
     },
     "execution_count": 14,
     "metadata": {},
     "output_type": "execute_result"
    }
   ],
   "source": [
    "df['question_len'].max()"
   ]
  },
  {
   "cell_type": "code",
   "execution_count": 15,
   "id": "f1729ec7-670e-43b5-b4d2-118883b9ac8d",
   "metadata": {},
   "outputs": [
    {
     "name": "stdout",
     "output_type": "stream",
     "text": [
      "Percent  ::   words  \n",
      "\n",
      "    95%  ::   17.0 words\n",
      "    96%  ::   17.0 words\n",
      "    97%  ::   18.0 words\n",
      "    98%  ::   19.0 words\n",
      "    99%  ::   21.0 words\n"
     ]
    },
    {
     "data": {
      "image/png": "[encoded data removed]",
      "text/plain": [
       "<Figure size 2500x500 with 1 Axes>"
      ]
     },
     "metadata": {},
     "output_type": "display_data"
    }
   ],
   "source": [
    "dist_info(x = df['question_len'], r = (95,99), xlim=[2,40], bins = 10000)"
   ]
  },
  {
   "cell_type": "markdown",
   "id": "832254f5-e5e4-4e37-aa89-366ebb9a67ea",
   "metadata": {},
   "source": [
    "clearly there are too much bins "
   ]
  },
  {
   "cell_type": "markdown",
   "id": "238db8f9-8965-48ac-bb6d-612f3aa84a87",
   "metadata": {},
   "source": [
    "Similar to context , for input for questions we would go with 50 words , it covers 99% data "
   ]
  },
  {
   "cell_type": "code",
   "execution_count": 16,
   "id": "784f82eb-3e0c-4055-a993-7bae67cbbab2",
   "metadata": {},
   "outputs": [],
   "source": [
    "question_inputs_len = 50 + 2 # for <SOS> AND <EOS>"
   ]
  },
  {
   "cell_type": "markdown",
   "id": "15873986-7491-4443-bbec-a0cd88fe6f9a",
   "metadata": {},
   "source": [
    "## 3. Answers"
   ]
  },
  {
   "cell_type": "code",
   "execution_count": 17,
   "id": "3bcec8bd-f159-44f6-90ed-aac37fcc4c3f",
   "metadata": {},
   "outputs": [
    {
     "name": "stdout",
     "output_type": "stream",
     "text": [
      "Percent  ::   words  \n",
      "\n",
      "    95%  ::   10.0 words\n",
      "    96%  ::   11.0 words\n",
      "    97%  ::   13.0 words\n",
      "    98%  ::   15.0 words\n",
      "    99%  ::   18.0 words\n",
      "   100%  ::   43.0 words\n"
     ]
    },
    {
     "data": {
      "image/png": "[encoded data removed]",
      "text/plain": [
       "<Figure size 2500x500 with 1 Axes>"
      ]
     },
     "metadata": {},
     "output_type": "display_data"
    }
   ],
   "source": [
    "dist_info(df['answer_len'], (95,100))\n"
   ]
  },
  {
   "cell_type": "markdown",
   "id": "16aaf745-33a5-4166-9e2f-ff8226322420",
   "metadata": {},
   "source": [
    "Similar to context , for input for answers we would go with 50 words , it covers 100% data "
   ]
  },
  {
   "cell_type": "code",
   "execution_count": 18,
   "id": "614ffbc7-61c5-45ed-bb7a-13b09c6181f2",
   "metadata": {},
   "outputs": [],
   "source": [
    "answer_inputs_len = 50 + 2 # for <SOS> AND <EOS>"
   ]
  },
  {
   "cell_type": "markdown",
   "id": "ebaafbd6-315d-41bc-ac59-b8588cb1d6d0",
   "metadata": {},
   "source": [
    "# Preprocessing TEXT"
   ]
  },
  {
   "cell_type": "code",
   "execution_count": 20,
   "id": "15f9101f-21b5-42b1-a8a0-cc6e9c86d4cd",
   "metadata": {},
   "outputs": [],
   "source": [
    "# FUNCTIONS TO EXPAND CONTRACTIONS\n",
    "\n",
    "with open('contractions.json') as f:\n",
    "   contractions_dict = json.load(f)\n",
    "\n",
    "def cont_to_exp(x):\n",
    "    x = str(x).lower()\n",
    "    xsplited = x.split(' ')\n",
    "    exp_sentence = []\n",
    "    for s in x.split():\n",
    "        if s in contractions_dict.keys():\n",
    "            \n",
    "            s = contractions_dict.get(s)\n",
    "        exp_sentence.append(s)\n",
    "        \n",
    "    x = ' '.join(exp_sentence)\n",
    "    return x\n"
   ]
  },
  {
   "cell_type": "code",
   "execution_count": 21,
   "id": "30957b64-c812-44c0-82be-1af72414397b",
   "metadata": {},
   "outputs": [],
   "source": [
    "# very necessary function you can't tell differece between \"’\" and \"'\", I don't even have that symbol in my keyboard\n",
    "def text_cleaning_apos(text):\n",
    "    text = str(text)\n",
    "    text = text.lower()\n",
    "    text = re.sub(\"’\", \"'\", text) # removing punctuation\n",
    "    text = cont_to_exp(text)\n",
    "    text = re.sub('[#,@,&]', '',text)\n",
    "    text = re.sub(\"'s\",'', text)\n",
    "    text = text.replace(\"?\",' ?')\n",
    "    text = text.replace(\".\",' .')\n",
    "    text = text.replace(\"!\",' !')\n",
    "    # text = re.sub(r'\\s+[a-zA-Z]\\s+', ' ', text)\n",
    "    return text"
   ]
  },
  {
   "cell_type": "code",
   "execution_count": 22,
   "id": "0ca53fc3-66da-4d13-ac12-e8704a1c7dfe",
   "metadata": {},
   "outputs": [
    {
     "data": {
      "text/plain": [
       "'i am sbodybody'"
      ]
     },
     "execution_count": 22,
     "metadata": {},
     "output_type": "execute_result"
    }
   ],
   "source": [
    "s = 'i am soneone'\n",
    "s.replace('one', 'body')"
   ]
  },
  {
   "cell_type": "code",
   "execution_count": 23,
   "id": "5b1cd05b-0340-4fb3-990c-838c63c3409b",
   "metadata": {},
   "outputs": [],
   "source": [
    "# func 1\n",
    "df = df.with_columns([\n",
    "    (pl.col(\"context\").apply(lambda x: text_cleaning_apos(x))),\n",
    "    (pl.col(\"questions\").apply(lambda x: text_cleaning_apos(x))),\n",
    "    (pl.col(\"final_answer\").apply(lambda x: text_cleaning_apos(x)))\n",
    "\n",
    "])"
   ]
  },
  {
   "cell_type": "code",
   "execution_count": 24,
   "id": "731381de-e40e-4f2a-966b-bfd95e1e559c",
   "metadata": {},
   "outputs": [],
   "source": [
    "# # func 2\n",
    "# df = df.with_columns([\n",
    "#     (pl.col(\"context\").apply(lambda x: cont_to_exp(x))),\n",
    "#     (pl.col(\"questions\").apply(lambda x: cont_to_exp(x))),\n",
    "#     (pl.col(\"final_answer\").apply(lambda x: cont_to_exp(x)))\n",
    "\n",
    "# ])"
   ]
  },
  {
   "cell_type": "markdown",
   "id": "01eb71e8-2734-4bda-99d0-73e74dce3a22",
   "metadata": {
    "tags": []
   },
   "source": [
    "# Vectorization"
   ]
  },
  {
   "cell_type": "code",
   "execution_count": 26,
   "id": "3765a298-cd36-4a6d-b990-841c8cb34b35",
   "metadata": {},
   "outputs": [],
   "source": [
    "from tensorflow.keras.layers import TextVectorization, Embedding"
   ]
  },
  {
   "cell_type": "code",
   "execution_count": 27,
   "id": "b448fb51-a770-4c09-ba8b-f61105772e9b",
   "metadata": {},
   "outputs": [],
   "source": [
    "# we will be using universal sentence encoder for vectorization and embedding"
   ]
  },
  {
   "cell_type": "code",
   "execution_count": 28,
   "id": "3c713cfa-a32e-4315-9323-ac8a244385a8",
   "metadata": {},
   "outputs": [
    {
     "name": "stdout",
     "output_type": "stream",
     "text": [
      "WARNING:tensorflow:Please fix your imports. Module tensorflow.python.training.tracking.data_structures has been moved to tensorflow.python.trackable.data_structures. The old module will be deleted in version 2.11.\n"
     ]
    },
    {
     "name": "stderr",
     "output_type": "stream",
     "text": [
      "2023-01-25 16:43:46.854371: I tensorflow/core/platform/cpu_feature_guard.cc:193] This TensorFlow binary is optimized with oneAPI Deep Neural Network Library (oneDNN) to use the following CPU instructions in performance-critical operations:  AVX2 FMA\n",
      "To enable them in other operations, rebuild TensorFlow with the appropriate compiler flags.\n",
      "2023-01-25 16:43:46.865747: I tensorflow/stream_executor/cuda/cuda_gpu_executor.cc:980] successful NUMA node read from SysFS had negative value (-1), but there must be at least one NUMA node, so returning NUMA node zero\n",
      "2023-01-25 16:43:46.866147: I tensorflow/stream_executor/cuda/cuda_gpu_executor.cc:980] successful NUMA node read from SysFS had negative value (-1), but there must be at least one NUMA node, so returning NUMA node zero\n",
      "2023-01-25 16:43:46.866415: I tensorflow/stream_executor/cuda/cuda_gpu_executor.cc:980] successful NUMA node read from SysFS had negative value (-1), but there must be at least one NUMA node, so returning NUMA node zero\n",
      "2023-01-25 16:43:47.852763: I tensorflow/stream_executor/cuda/cuda_gpu_executor.cc:980] successful NUMA node read from SysFS had negative value (-1), but there must be at least one NUMA node, so returning NUMA node zero\n",
      "2023-01-25 16:43:47.853274: I tensorflow/stream_executor/cuda/cuda_gpu_executor.cc:980] successful NUMA node read from SysFS had negative value (-1), but there must be at least one NUMA node, so returning NUMA node zero\n",
      "2023-01-25 16:43:47.853425: I tensorflow/stream_executor/cuda/cuda_gpu_executor.cc:980] successful NUMA node read from SysFS had negative value (-1), but there must be at least one NUMA node, so returning NUMA node zero\n",
      "2023-01-25 16:43:47.853977: I tensorflow/core/common_runtime/gpu/gpu_device.cc:1616] Created device /job:localhost/replica:0/task:0/device:GPU:0 with 2408 MB memory:  -> device: 0, name: NVIDIA GeForce GTX 1650, pci bus id: 0000:01:00.0, compute capability: 7.5\n"
     ]
    }
   ],
   "source": [
    "embed = hub.KerasLayer(\"./universal_sentence_encoder\")"
   ]
  },
  {
   "cell_type": "code",
   "execution_count": 29,
   "id": "6a64c24e-1bd7-489d-95df-0c177ef52c29",
   "metadata": {},
   "outputs": [
    {
     "name": "stderr",
     "output_type": "stream",
     "text": [
      "error: Can't find libdevice directory ${CUDA_DIR}/nvvm/libdevice\n",
      "error: Can't find libdevice directory ${CUDA_DIR}/nvvm/libdevice\n",
      "error: Can't find libdevice directory ${CUDA_DIR}/nvvm/libdevice\n",
      "error: Can't find libdevice directory ${CUDA_DIR}/nvvm/libdevice\n",
      "error: Can't find libdevice directory ${CUDA_DIR}/nvvm/libdevice\n",
      "error: Can't find libdevice directory ${CUDA_DIR}/nvvm/libdevice\n",
      "error: Can't find libdevice directory ${CUDA_DIR}/nvvm/libdevice\n",
      "error: Can't find libdevice directory ${CUDA_DIR}/nvvm/libdevice\n",
      "2023-01-25 16:43:52.804060: W tensorflow/core/framework/op_kernel.cc:1768] UNKNOWN: JIT compilation failed.\n"
     ]
    },
    {
     "ename": "UnknownError",
     "evalue": "Exception encountered when calling layer \"keras_layer\" \"                 f\"(type KerasLayer).\n\nGraph execution error:\n\nJIT compilation failed.\n\t [[{{node EncoderDNN/EmbeddingLookup/EmbeddingLookupUnique/embedding_lookup/mod}}]] [Op:__inference_restored_function_body_4561]\n\nCall arguments received by layer \"keras_layer\" \"                 f\"(type KerasLayer):\n  • inputs=[\"'How old are you'\", \"'What is your age'\", \"'I love to watch Television'\", \"'I am wearing a wrist watch'\"]\n  • training=None",
     "output_type": "error",
     "traceback": [
      "\u001b[0;31m---------------------------------------------------------------------------\u001b[0m",
      "\u001b[0;31mUnknownError\u001b[0m                              Traceback (most recent call last)",
      "Cell \u001b[0;32mIn[29], line 7\u001b[0m\n\u001b[1;32m      1\u001b[0m Sentences \u001b[38;5;241m=\u001b[39m [\n\u001b[1;32m      2\u001b[0m     \u001b[38;5;124m\"\u001b[39m\u001b[38;5;124mHow old are you\u001b[39m\u001b[38;5;124m\"\u001b[39m,\n\u001b[1;32m      3\u001b[0m     \u001b[38;5;124m\"\u001b[39m\u001b[38;5;124mWhat is your age\u001b[39m\u001b[38;5;124m\"\u001b[39m,\n\u001b[1;32m      4\u001b[0m     \u001b[38;5;124m\"\u001b[39m\u001b[38;5;124mI love to watch Television\u001b[39m\u001b[38;5;124m\"\u001b[39m,\n\u001b[1;32m      5\u001b[0m     \u001b[38;5;124m\"\u001b[39m\u001b[38;5;124mI am wearing a wrist watch\u001b[39m\u001b[38;5;124m\"\u001b[39m\n\u001b[1;32m      6\u001b[0m ]\n\u001b[0;32m----> 7\u001b[0m embeddings \u001b[38;5;241m=\u001b[39m \u001b[43membed\u001b[49m\u001b[43m(\u001b[49m\u001b[43mSentences\u001b[49m\u001b[43m)\u001b[49m\n",
      "File \u001b[0;32m~/miniconda3/envs/tf/lib/python3.10/site-packages/keras/utils/traceback_utils.py:70\u001b[0m, in \u001b[0;36mfilter_traceback.<locals>.error_handler\u001b[0;34m(*args, **kwargs)\u001b[0m\n\u001b[1;32m     67\u001b[0m     filtered_tb \u001b[38;5;241m=\u001b[39m _process_traceback_frames(e\u001b[38;5;241m.\u001b[39m__traceback__)\n\u001b[1;32m     68\u001b[0m     \u001b[38;5;66;03m# To get the full stack trace, call:\u001b[39;00m\n\u001b[1;32m     69\u001b[0m     \u001b[38;5;66;03m# `tf.debugging.disable_traceback_filtering()`\u001b[39;00m\n\u001b[0;32m---> 70\u001b[0m     \u001b[38;5;28;01mraise\u001b[39;00m e\u001b[38;5;241m.\u001b[39mwith_traceback(filtered_tb) \u001b[38;5;28;01mfrom\u001b[39;00m \u001b[38;5;28mNone\u001b[39m\n\u001b[1;32m     71\u001b[0m \u001b[38;5;28;01mfinally\u001b[39;00m:\n\u001b[1;32m     72\u001b[0m     \u001b[38;5;28;01mdel\u001b[39;00m filtered_tb\n",
      "File \u001b[0;32m~/miniconda3/envs/tf/lib/python3.10/site-packages/tensorflow_hub/keras_layer.py:229\u001b[0m, in \u001b[0;36mKerasLayer.call\u001b[0;34m(self, inputs, training)\u001b[0m\n\u001b[1;32m    223\u001b[0m \u001b[38;5;66;03m# ...but we may also have to pass a Python boolean for `training`, which\u001b[39;00m\n\u001b[1;32m    224\u001b[0m \u001b[38;5;66;03m# is the logical \"and\" of this layer's trainability and what the surrounding\u001b[39;00m\n\u001b[1;32m    225\u001b[0m \u001b[38;5;66;03m# model is doing (analogous to tf.keras.layers.BatchNormalization in TF2).\u001b[39;00m\n\u001b[1;32m    226\u001b[0m \u001b[38;5;66;03m# For the latter, we have to look in two places: the `training` argument,\u001b[39;00m\n\u001b[1;32m    227\u001b[0m \u001b[38;5;66;03m# or else Keras' global `learning_phase`, which might actually be a tensor.\u001b[39;00m\n\u001b[1;32m    228\u001b[0m \u001b[38;5;28;01mif\u001b[39;00m \u001b[38;5;129;01mnot\u001b[39;00m \u001b[38;5;28mself\u001b[39m\u001b[38;5;241m.\u001b[39m_has_training_argument:\n\u001b[0;32m--> 229\u001b[0m   result \u001b[38;5;241m=\u001b[39m \u001b[43mf\u001b[49m\u001b[43m(\u001b[49m\u001b[43m)\u001b[49m\n\u001b[1;32m    230\u001b[0m \u001b[38;5;28;01melse\u001b[39;00m:\n\u001b[1;32m    231\u001b[0m   \u001b[38;5;28;01mif\u001b[39;00m \u001b[38;5;28mself\u001b[39m\u001b[38;5;241m.\u001b[39mtrainable:\n",
      "\u001b[0;31mUnknownError\u001b[0m: Exception encountered when calling layer \"keras_layer\" \"                 f\"(type KerasLayer).\n\nGraph execution error:\n\nJIT compilation failed.\n\t [[{{node EncoderDNN/EmbeddingLookup/EmbeddingLookupUnique/embedding_lookup/mod}}]] [Op:__inference_restored_function_body_4561]\n\nCall arguments received by layer \"keras_layer\" \"                 f\"(type KerasLayer):\n  • inputs=[\"'How old are you'\", \"'What is your age'\", \"'I love to watch Television'\", \"'I am wearing a wrist watch'\"]\n  • training=None"
     ]
    }
   ],
   "source": [
    "Sentences = [\n",
    "    \"How old are you\",\n",
    "    \"What is your age\",\n",
    "    \"I love to watch Television\",\n",
    "    \"I am wearing a wrist watch\"\n",
    "]\n",
    "embeddings = embed(Sentences)\n",
    "  "
   ]
  },
  {
   "cell_type": "code",
   "execution_count": null,
   "id": "9c788d6e-32d0-4702-a387-6288eac64f30",
   "metadata": {},
   "outputs": [],
   "source": []
  },
  {
   "cell_type": "code",
   "execution_count": null,
   "id": "1f1b2bed-a599-4804-a6c8-aa40a3e0c5a5",
   "metadata": {},
   "outputs": [],
   "source": []
  },
  {
   "cell_type": "code",
   "execution_count": null,
   "id": "745fb965-4bb9-45da-931f-776323583546",
   "metadata": {},
   "outputs": [],
   "source": []
  },
  {
   "cell_type": "code",
   "execution_count": null,
   "id": "06260bc0-b995-47e1-9e3d-8c7d5e518cbf",
   "metadata": {},
   "outputs": [],
   "source": []
  },
  {
   "cell_type": "code",
   "execution_count": null,
   "id": "b593b416-5d54-4ebe-bb68-ee359c77c3ff",
   "metadata": {},
   "outputs": [],
   "source": []
  },
  {
   "cell_type": "code",
   "execution_count": null,
   "id": "d5643a18-bc9c-4d1f-86fd-72be8c3d6a47",
   "metadata": {},
   "outputs": [],
   "source": []
  },
  {
   "cell_type": "code",
   "execution_count": null,
   "id": "f4db26fe-d2d0-41b1-bead-3ecf5428b93e",
   "metadata": {},
   "outputs": [],
   "source": []
  },
  {
   "cell_type": "code",
   "execution_count": null,
   "id": "470eb008-56ea-4570-a1c6-2a079c5e2847",
   "metadata": {},
   "outputs": [],
   "source": []
  },
  {
   "cell_type": "code",
   "execution_count": null,
   "id": "b6643013-2e09-4f5b-a019-01cd92d39854",
   "metadata": {},
   "outputs": [],
   "source": []
  },
  {
   "cell_type": "code",
   "execution_count": null,
   "id": "40b71bb6-9bb3-44bb-8175-75f051d7d638",
   "metadata": {},
   "outputs": [],
   "source": []
  },
  {
   "cell_type": "code",
   "execution_count": null,
   "id": "09921bb6-df07-4269-a95b-bb6474e2185c",
   "metadata": {},
   "outputs": [],
   "source": []
  },
  {
   "cell_type": "code",
   "execution_count": null,
   "id": "ebca55ae-dc7a-4616-b6ec-43ea210ce02e",
   "metadata": {},
   "outputs": [],
   "source": []
  },
  {
   "cell_type": "code",
   "execution_count": null,
   "id": "fdea4772-23e2-403e-bddc-67075c48d42c",
   "metadata": {},
   "outputs": [],
   "source": []
  }
 ],
 "metadata": {
  "kernelspec": {
   "display_name": "tf",
   "language": "python",
   "name": "tf"
  },
  "language_info": {
   "codemirror_mode": {
    "name": "ipython",
    "version": 3
   },
   "file_extension": ".py",
   "mimetype": "text/x-python",
   "name": "python",
   "nbconvert_exporter": "python",
   "pygments_lexer": "ipython3",
   "version": "3.10.6"
  }
 },
 "nbformat": 4,
 "nbformat_minor": 5
}
