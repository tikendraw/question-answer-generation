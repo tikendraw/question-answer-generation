{
  "cells": [
    {
      "cell_type": "markdown",
      "metadata": {
        "id": "view-in-github",
        "colab_type": "text"
      },
      "source": [
        "<a href=\"https://colab.research.google.com/github/tikendraw/question-answering-squad-model/blob/main/question_answers_genration.ipynb\" target=\"_parent\"><img src=\"https://colab.research.google.com/assets/colab-badge.svg\" alt=\"Open In Colab\"/></a>"
      ]
    },
    {
      "cell_type": "markdown",
      "id": "b458cdaf-4222-4be4-973d-834b0b7f6a3b",
      "metadata": {
        "id": "b458cdaf-4222-4be4-973d-834b0b7f6a3b"
      },
      "source": [
        "# Question Answers Generations Model"
      ]
    },
    {
      "cell_type": "code",
      "source": [
        "import os, sys\n",
        "if 'google.colab' in sys.modules:\n",
        "    \n",
        "    ! git clone https://github.com/tikendraw/question-answer-generation.git \n",
        "    os.chdir('question-answer-generation') \n",
        "    print(os.getcwd())"
      ],
      "metadata": {
        "id": "xGb_cM_YFQLL",
        "outputId": "722a7964-0223-41f2-9596-8b51e9abd92a",
        "colab": {
          "base_uri": "https://localhost:8080/"
        }
      },
      "id": "xGb_cM_YFQLL",
      "execution_count": 1,
      "outputs": [
        {
          "output_type": "stream",
          "name": "stdout",
          "text": [
            "Cloning into 'question-answer-generation'...\n",
            "remote: Enumerating objects: 55, done.\u001b[K\n",
            "remote: Counting objects: 100% (55/55), done.\u001b[K\n",
            "remote: Compressing objects: 100% (46/46), done.\u001b[K\n",
            "remote: Total 55 (delta 21), reused 26 (delta 7), pack-reused 0\u001b[K\n",
            "Unpacking objects: 100% (55/55), 20.73 MiB | 3.32 MiB/s, done.\n",
            "Updating files: 100% (9/9), done.\n",
            "/content/question-answer-generation\n"
          ]
        }
      ]
    },
    {
      "cell_type": "code",
      "execution_count": 2,
      "id": "9e422643-086d-43b3-b989-4c28d88cc0a3",
      "metadata": {
        "id": "9e422643-086d-43b3-b989-4c28d88cc0a3",
        "outputId": "d40f3ad6-d21c-4a0c-fe24-a30330851573",
        "colab": {
          "base_uri": "https://localhost:8080/"
        }
      },
      "outputs": [
        {
          "output_type": "stream",
          "name": "stdout",
          "text": [
            "\u001b[2K     \u001b[90m━━━━━━━━━━━━━━━━━━━━━━━━━━━━━━━━━━━━━━━━\u001b[0m \u001b[32m5.8/5.8 MB\u001b[0m \u001b[31m33.2 MB/s\u001b[0m eta \u001b[36m0:00:00\u001b[0m\n",
            "\u001b[2K     \u001b[90m━━━━━━━━━━━━━━━━━━━━━━━━━━━━━━━━━━━━━━━\u001b[0m \u001b[32m588.3/588.3 MB\u001b[0m \u001b[31m1.8 MB/s\u001b[0m eta \u001b[36m0:00:00\u001b[0m\n",
            "\u001b[2K     \u001b[90m━━━━━━━━━━━━━━━━━━━━━━━━━━━━━━━━━━━━━━━━\u001b[0m \u001b[32m1.7/1.7 MB\u001b[0m \u001b[31m38.9 MB/s\u001b[0m eta \u001b[36m0:00:00\u001b[0m\n",
            "\u001b[2K     \u001b[90m━━━━━━━━━━━━━━━━━━━━━━━━━━━━━━━━━━━━━━\u001b[0m \u001b[32m439.2/439.2 KB\u001b[0m \u001b[31m26.6 MB/s\u001b[0m eta \u001b[36m0:00:00\u001b[0m\n",
            "\u001b[2K     \u001b[90m━━━━━━━━━━━━━━━━━━━━━━━━━━━━━━━━━━━━━━━━\u001b[0m \u001b[32m6.0/6.0 MB\u001b[0m \u001b[31m36.4 MB/s\u001b[0m eta \u001b[36m0:00:00\u001b[0m\n",
            "\u001b[2K     \u001b[90m━━━━━━━━━━━━━━━━━━━━━━━━━━━━━━━━━━━━━━━━\u001b[0m \u001b[32m15.2/15.2 MB\u001b[0m \u001b[31m53.6 MB/s\u001b[0m eta \u001b[36m0:00:00\u001b[0m\n",
            "\u001b[?25hTf version:  2.11.0\n",
            "GPU:  0\n"
          ]
        }
      ],
      "source": [
        "# Dependencies\n",
        "!pip install tensorflow-text -q\n",
        "import tensorflow_text as tf_text\n",
        "\n",
        "import pandas as pd\n",
        "! pip install polars -q\n",
        "import polars as pl\n",
        "import numpy as np\n",
        "import tensorflow as tf\n",
        "from tensorflow import keras\n",
        "from tensorflow.keras import layers, Model , optimizers\n",
        "from tensorflow.keras.layers import Attention, LSTM, Bidirectional, Dense, MaxPooling1D, Input, GlobalAveragePooling1D, GlobalMaxPooling1D, AveragePooling1D, Dropout, concatenate, Concatenate\n",
        "\n",
        "import seaborn as sns\n",
        "import matplotlib.pyplot as plt\n",
        "\n",
        "# !pip install tensorflow_hub\n",
        "import tensorflow_hub as hub\n",
        "import os\n",
        "import re\n",
        "import json\n",
        "\n",
        "print('Tf version: ',tf.__version__)\n",
        "print('GPU: ', is_gpu:=len(tf.config.list_physical_devices('GPU')))\n",
        "import tensorflow as tf\n",
        "\n",
        "os.environ['TF_CPP_MIN_LOG_LEVEL'] = '3' \n",
        "os.environ[\"TFHUB_CACHE_DIR\"] = './tmp/tfhub'\n",
        "\n",
        "\"\"\"\"\"\"\"\"\"\"\"\"\"\"\"\"\"\"\"\"\"\"\"\"\"\"\"\"\"\"\"\"\"\"\"\"\"\"\"\"\"\"\"\"\"\"\"\"\"\"\"\"\"\"\"\"\"\n",
        "[PhysicalDevice(name='/physical_device:GPU:0', device_type='GPU')]\n",
        "None\n",
        "\"\"\"\"\"\"\"\"\"\"\"\"\"\"\"\"\"\"\"\"\"\"\"\"\"\"\"\"\"\"\"\"\"\"\"\"\"\"\"\"\"\"\"\"\"\"\"\"\"\"\"\"\"\"\"\"\"\n",
        "if is_gpu:\n",
        "    physical_devices = tf.config.experimental.list_physical_devices('GPU')\n",
        "    assert len(physical_devices) > 0, \"Not enough GPU hardware devices available\"\n",
        "    config = tf.config.experimental.set_memory_growth(physical_devices[0], True)\n",
        "    print(physical_devices)\n",
        "    print(config)\n",
        "\n",
        "def download_USEncoder():\n",
        "\n",
        "    print('downloading universal sentence encoder...')\n",
        "    !wget https://storage.googleapis.com/tfhub-modules/google/universal-sentence-encoder/4.tar.gz\n",
        "    print('Downloaded universal sentence encoder.')\n",
        "    # Extracting\n",
        "    try:\n",
        "        !mkdir universal_sentence_encoder\n",
        "        print('Extracting universal sentence encoder....')\n",
        "        ! tar -xf 4.tar.gz --directory ./universal_sentence_encoder\n",
        "        print('Extracted.')\n",
        "    except Exception as e:\n",
        "        print(e)\n"
      ]
    },
    {
      "cell_type": "code",
      "source": [
        "%run squad_preprocessing.py"
      ],
      "metadata": {
        "id": "kSlttzEcnIBG"
      },
      "id": "kSlttzEcnIBG",
      "execution_count": 15,
      "outputs": []
    },
    {
      "cell_type": "code",
      "execution_count": 143,
      "id": "99e0f09b-dc40-4f35-9027-7688e05d8e28",
      "metadata": {
        "id": "99e0f09b-dc40-4f35-9027-7688e05d8e28",
        "outputId": "3b82c67f-a7c5-4aeb-dd8d-da62a627e820",
        "colab": {
          "base_uri": "https://localhost:8080/"
        }
      },
      "outputs": [
        {
          "output_type": "execute_result",
          "data": {
            "text/plain": [
              "((86821, 11), polars.internals.dataframe.frame.DataFrame)"
            ]
          },
          "metadata": {},
          "execution_count": 143
        }
      ],
      "source": [
        "# get the data\n",
        "df = pl.read_csv('dataset/train_data_cleaned.csv')\n",
        "df.shape,  type(df)"
      ]
    },
    {
      "cell_type": "code",
      "execution_count": 144,
      "id": "99f3d9f6-8baa-4a19-a743-bcf64c1fbd8e",
      "metadata": {
        "id": "99f3d9f6-8baa-4a19-a743-bcf64c1fbd8e",
        "outputId": "8f8a4b31-b559-4147-bb2b-b8d1c4d4e714",
        "colab": {
          "base_uri": "https://localhost:8080/",
          "height": 202
        }
      },
      "outputs": [
        {
          "output_type": "execute_result",
          "data": {
            "text/plain": [
              "shape: (5, 11)\n",
              "┌────────┬────────────┬───────────┬───────────┬─────┬────────┬────────────┬───────────┬────────────┐\n",
              "│        ┆ title      ┆ context   ┆ ids       ┆ ... ┆ anslen ┆ answers_cl ┆ answer_te ┆ answer_sta │\n",
              "│ ---    ┆ ---        ┆ ---       ┆ ---       ┆     ┆ ---    ┆ ean        ┆ xt        ┆ rt         │\n",
              "│ i64    ┆ str        ┆ str       ┆ str       ┆     ┆ i64    ┆ ---        ┆ ---       ┆ ---        │\n",
              "│        ┆            ┆           ┆           ┆     ┆        ┆ str        ┆ str       ┆ i64        │\n",
              "╞════════╪════════════╪═══════════╪═══════════╪═════╪════════╪════════════╪═══════════╪════════════╡\n",
              "│ 20166  ┆ Nanjing    ┆ The city  ┆ 56e787d90 ┆ ... ┆ 1      ┆ {'text':   ┆ the Song  ┆ 424        │\n",
              "│        ┆            ┆ of        ┆ 0c9c71400 ┆     ┆        ┆ 'the Song  ┆ dynasty   ┆            │\n",
              "│        ┆            ┆ Nanjing   ┆ d77253    ┆     ┆        ┆ dynasty',  ┆           ┆            │\n",
              "│        ┆            ┆ was razed ┆           ┆     ┆        ┆ 'an...     ┆           ┆            │\n",
              "│        ┆            ┆ af...     ┆           ┆     ┆        ┆            ┆           ┆            │\n",
              "│ 129533 ┆ Hunting    ┆ Regulatio ┆ 573452098 ┆ ... ┆ 1      ┆ {'text':   ┆ 19th      ┆ 62         │\n",
              "│        ┆            ┆ n of      ┆ 79d681400 ┆     ┆        ┆ '19th      ┆ century   ┆            │\n",
              "│        ┆            ┆ hunting   ┆ 1ca511    ┆     ┆        ┆ century',  ┆           ┆            │\n",
              "│        ┆            ┆ within    ┆           ┆     ┆        ┆ 'answer... ┆           ┆            │\n",
              "│        ┆            ┆ the...    ┆           ┆     ┆        ┆            ┆           ┆            │\n",
              "│ 20169  ┆ Nanjing    ┆ The first ┆ 56e788b10 ┆ ... ┆ 1      ┆ {'text':   ┆ Zhu       ┆ 39         │\n",
              "│        ┆            ┆ emperor   ┆ 0c9c71400 ┆     ┆        ┆ 'Zhu Yuanz ┆ Yuanzhang ┆            │\n",
              "│        ┆            ┆ of the    ┆ d7725b    ┆     ┆        ┆ hang',     ┆           ┆            │\n",
              "│        ┆            ┆ Ming      ┆           ┆     ┆        ┆ 'answe...  ┆           ┆            │\n",
              "│        ┆            ┆ dy...     ┆           ┆     ┆        ┆            ┆           ┆            │\n",
              "│ 5073   ┆ Kanye_West ┆ The       ┆ 56cf83a72 ┆ ... ┆ 1      ┆ {'text':   ┆ \"Hey      ┆ 204        │\n",
              "│        ┆            ┆ funeral   ┆ 34ae51400 ┆     ┆        ┆ '\"Hey      ┆ Mama\", as ┆            │\n",
              "│        ┆            ┆ and       ┆ d9bde4    ┆     ┆        ┆ Mama\", as  ┆ well as a ┆            │\n",
              "│        ┆            ┆ burial    ┆           ┆     ┆        ┆ well as... ┆ cover     ┆            │\n",
              "│        ┆            ┆ for       ┆           ┆     ┆        ┆            ┆ o...      ┆            │\n",
              "│        ┆            ┆ Donda...  ┆           ┆     ┆        ┆            ┆           ┆            │\n",
              "│ 54484  ┆ Greece     ┆ Following ┆ 572647847 ┆ ... ┆ 1      ┆ {'text':   ┆ Premier   ┆ 148        │\n",
              "│        ┆            ┆ the catas ┆ 089841400 ┆     ┆        ┆ 'Premier   ┆ Georgios  ┆            │\n",
              "│        ┆            ┆ trophic   ┆ 94c143    ┆     ┆        ┆ Georgios   ┆ Kondylis  ┆            │\n",
              "│        ┆            ┆ event...  ┆           ┆     ┆        ┆ Kondy...   ┆           ┆            │\n",
              "└────────┴────────────┴───────────┴───────────┴─────┴────────┴────────────┴───────────┴────────────┘"
            ],
            "text/html": [
              "<div>\n",
              "<style>\n",
              ".pl-dataframe > thead > tr > th {\n",
              "  text-align: right;\n",
              "}\n",
              "</style>\n",
              "\n",
              "<table border=\"1\" class=\"pl-dataframe\">\n",
              "<small>shape: (5, 11)</small>\n",
              "<thead>\n",
              "<tr>\n",
              "<th>\n",
              "\n",
              "</th>\n",
              "<th>\n",
              "title\n",
              "</th>\n",
              "<th>\n",
              "context\n",
              "</th>\n",
              "<th>\n",
              "ids\n",
              "</th>\n",
              "<th>\n",
              "questions\n",
              "</th>\n",
              "<th>\n",
              "answers\n",
              "</th>\n",
              "<th>\n",
              "is_imposible\n",
              "</th>\n",
              "<th>\n",
              "anslen\n",
              "</th>\n",
              "<th>\n",
              "answers_clean\n",
              "</th>\n",
              "<th>\n",
              "answer_text\n",
              "</th>\n",
              "<th>\n",
              "answer_start\n",
              "</th>\n",
              "</tr>\n",
              "<tr>\n",
              "<td>\n",
              "i64\n",
              "</td>\n",
              "<td>\n",
              "str\n",
              "</td>\n",
              "<td>\n",
              "str\n",
              "</td>\n",
              "<td>\n",
              "str\n",
              "</td>\n",
              "<td>\n",
              "str\n",
              "</td>\n",
              "<td>\n",
              "str\n",
              "</td>\n",
              "<td>\n",
              "bool\n",
              "</td>\n",
              "<td>\n",
              "i64\n",
              "</td>\n",
              "<td>\n",
              "str\n",
              "</td>\n",
              "<td>\n",
              "str\n",
              "</td>\n",
              "<td>\n",
              "i64\n",
              "</td>\n",
              "</tr>\n",
              "</thead>\n",
              "<tbody>\n",
              "<tr>\n",
              "<td>\n",
              "20166\n",
              "</td>\n",
              "<td>\n",
              "&quot;Nanjing&quot;\n",
              "</td>\n",
              "<td>\n",
              "&quot;The city of Na...\n",
              "</td>\n",
              "<td>\n",
              "&quot;56e787d900c9c7...\n",
              "</td>\n",
              "<td>\n",
              "&quot;During what dy...\n",
              "</td>\n",
              "<td>\n",
              "&quot;[{&#x27;text&#x27;: &#x27;the...\n",
              "</td>\n",
              "<td>\n",
              "false\n",
              "</td>\n",
              "<td>\n",
              "1\n",
              "</td>\n",
              "<td>\n",
              "&quot;{&#x27;text&#x27;: &#x27;the ...\n",
              "</td>\n",
              "<td>\n",
              "&quot;the Song dynas...\n",
              "</td>\n",
              "<td>\n",
              "424\n",
              "</td>\n",
              "</tr>\n",
              "<tr>\n",
              "<td>\n",
              "129533\n",
              "</td>\n",
              "<td>\n",
              "&quot;Hunting&quot;\n",
              "</td>\n",
              "<td>\n",
              "&quot;Regulation of ...\n",
              "</td>\n",
              "<td>\n",
              "&quot;57345209879d68...\n",
              "</td>\n",
              "<td>\n",
              "&quot;When do huntin...\n",
              "</td>\n",
              "<td>\n",
              "&quot;[{&#x27;text&#x27;: &#x27;19t...\n",
              "</td>\n",
              "<td>\n",
              "false\n",
              "</td>\n",
              "<td>\n",
              "1\n",
              "</td>\n",
              "<td>\n",
              "&quot;{&#x27;text&#x27;: &#x27;19th...\n",
              "</td>\n",
              "<td>\n",
              "&quot;19th century&quot;\n",
              "</td>\n",
              "<td>\n",
              "62\n",
              "</td>\n",
              "</tr>\n",
              "<tr>\n",
              "<td>\n",
              "20169\n",
              "</td>\n",
              "<td>\n",
              "&quot;Nanjing&quot;\n",
              "</td>\n",
              "<td>\n",
              "&quot;The first empe...\n",
              "</td>\n",
              "<td>\n",
              "&quot;56e788b100c9c7...\n",
              "</td>\n",
              "<td>\n",
              "&quot;Who was the fi...\n",
              "</td>\n",
              "<td>\n",
              "&quot;[{&#x27;text&#x27;: &#x27;Zhu...\n",
              "</td>\n",
              "<td>\n",
              "false\n",
              "</td>\n",
              "<td>\n",
              "1\n",
              "</td>\n",
              "<td>\n",
              "&quot;{&#x27;text&#x27;: &#x27;Zhu ...\n",
              "</td>\n",
              "<td>\n",
              "&quot;Zhu Yuanzhang&quot;\n",
              "</td>\n",
              "<td>\n",
              "39\n",
              "</td>\n",
              "</tr>\n",
              "<tr>\n",
              "<td>\n",
              "5073\n",
              "</td>\n",
              "<td>\n",
              "&quot;Kanye_West&quot;\n",
              "</td>\n",
              "<td>\n",
              "&quot;The funeral an...\n",
              "</td>\n",
              "<td>\n",
              "&quot;56cf83a7234ae5...\n",
              "</td>\n",
              "<td>\n",
              "&quot;What songs did...\n",
              "</td>\n",
              "<td>\n",
              "&quot;[{&#x27;text&#x27;: &#x27;&quot;He...\n",
              "</td>\n",
              "<td>\n",
              "false\n",
              "</td>\n",
              "<td>\n",
              "1\n",
              "</td>\n",
              "<td>\n",
              "&quot;{&#x27;text&#x27;: &#x27;&quot;Hey...\n",
              "</td>\n",
              "<td>\n",
              "&quot;&quot;Hey Mama&quot;, as...\n",
              "</td>\n",
              "<td>\n",
              "204\n",
              "</td>\n",
              "</tr>\n",
              "<tr>\n",
              "<td>\n",
              "54484\n",
              "</td>\n",
              "<td>\n",
              "&quot;Greece&quot;\n",
              "</td>\n",
              "<td>\n",
              "&quot;Following the ...\n",
              "</td>\n",
              "<td>\n",
              "&quot;57264784708984...\n",
              "</td>\n",
              "<td>\n",
              "&quot;Who became the...\n",
              "</td>\n",
              "<td>\n",
              "&quot;[{&#x27;text&#x27;: &#x27;Pre...\n",
              "</td>\n",
              "<td>\n",
              "false\n",
              "</td>\n",
              "<td>\n",
              "1\n",
              "</td>\n",
              "<td>\n",
              "&quot;{&#x27;text&#x27;: &#x27;Prem...\n",
              "</td>\n",
              "<td>\n",
              "&quot;Premier Georgi...\n",
              "</td>\n",
              "<td>\n",
              "148\n",
              "</td>\n",
              "</tr>\n",
              "</tbody>\n",
              "</table>\n",
              "</div>"
            ]
          },
          "metadata": {},
          "execution_count": 144
        }
      ],
      "source": [
        "df.sample(5)"
      ]
    },
    {
      "cell_type": "code",
      "execution_count": 145,
      "id": "8f1bb619-b25e-46d7-bc9f-bfb3d8151b76",
      "metadata": {
        "id": "8f1bb619-b25e-46d7-bc9f-bfb3d8151b76",
        "outputId": "7c6fd971-bf45-4f9e-9d80-c07bd11d708d",
        "colab": {
          "base_uri": "https://localhost:8080/",
          "height": 108
        }
      },
      "outputs": [
        {
          "output_type": "execute_result",
          "data": {
            "text/plain": [
              "shape: (1, 11)\n",
              "┌─────┬───────┬─────────┬─────┬─────┬────────┬───────────────┬─────────────┬──────────────┐\n",
              "│     ┆ title ┆ context ┆ ids ┆ ... ┆ anslen ┆ answers_clean ┆ answer_text ┆ answer_start │\n",
              "│ --- ┆ ---   ┆ ---     ┆ --- ┆     ┆ ---    ┆ ---           ┆ ---         ┆ ---          │\n",
              "│ u32 ┆ u32   ┆ u32     ┆ u32 ┆     ┆ u32    ┆ u32           ┆ u32         ┆ u32          │\n",
              "╞═════╪═══════╪═════════╪═════╪═════╪════════╪═══════════════╪═════════════╪══════════════╡\n",
              "│ 0   ┆ 0     ┆ 0       ┆ 0   ┆ ... ┆ 0      ┆ 0             ┆ 0           ┆ 0            │\n",
              "└─────┴───────┴─────────┴─────┴─────┴────────┴───────────────┴─────────────┴──────────────┘"
            ],
            "text/html": [
              "<div>\n",
              "<style>\n",
              ".pl-dataframe > thead > tr > th {\n",
              "  text-align: right;\n",
              "}\n",
              "</style>\n",
              "\n",
              "<table border=\"1\" class=\"pl-dataframe\">\n",
              "<small>shape: (1, 11)</small>\n",
              "<thead>\n",
              "<tr>\n",
              "<th>\n",
              "\n",
              "</th>\n",
              "<th>\n",
              "title\n",
              "</th>\n",
              "<th>\n",
              "context\n",
              "</th>\n",
              "<th>\n",
              "ids\n",
              "</th>\n",
              "<th>\n",
              "questions\n",
              "</th>\n",
              "<th>\n",
              "answers\n",
              "</th>\n",
              "<th>\n",
              "is_imposible\n",
              "</th>\n",
              "<th>\n",
              "anslen\n",
              "</th>\n",
              "<th>\n",
              "answers_clean\n",
              "</th>\n",
              "<th>\n",
              "answer_text\n",
              "</th>\n",
              "<th>\n",
              "answer_start\n",
              "</th>\n",
              "</tr>\n",
              "<tr>\n",
              "<td>\n",
              "u32\n",
              "</td>\n",
              "<td>\n",
              "u32\n",
              "</td>\n",
              "<td>\n",
              "u32\n",
              "</td>\n",
              "<td>\n",
              "u32\n",
              "</td>\n",
              "<td>\n",
              "u32\n",
              "</td>\n",
              "<td>\n",
              "u32\n",
              "</td>\n",
              "<td>\n",
              "u32\n",
              "</td>\n",
              "<td>\n",
              "u32\n",
              "</td>\n",
              "<td>\n",
              "u32\n",
              "</td>\n",
              "<td>\n",
              "u32\n",
              "</td>\n",
              "<td>\n",
              "u32\n",
              "</td>\n",
              "</tr>\n",
              "</thead>\n",
              "<tbody>\n",
              "<tr>\n",
              "<td>\n",
              "0\n",
              "</td>\n",
              "<td>\n",
              "0\n",
              "</td>\n",
              "<td>\n",
              "0\n",
              "</td>\n",
              "<td>\n",
              "0\n",
              "</td>\n",
              "<td>\n",
              "0\n",
              "</td>\n",
              "<td>\n",
              "0\n",
              "</td>\n",
              "<td>\n",
              "0\n",
              "</td>\n",
              "<td>\n",
              "0\n",
              "</td>\n",
              "<td>\n",
              "0\n",
              "</td>\n",
              "<td>\n",
              "0\n",
              "</td>\n",
              "<td>\n",
              "0\n",
              "</td>\n",
              "</tr>\n",
              "</tbody>\n",
              "</table>\n",
              "</div>"
            ]
          },
          "metadata": {},
          "execution_count": 145
        }
      ],
      "source": [
        "# null check\n",
        "df.null_count()"
      ]
    },
    {
      "cell_type": "code",
      "execution_count": 146,
      "id": "4bc872fd-426e-4ee3-9888-f7130bc8a512",
      "metadata": {
        "id": "4bc872fd-426e-4ee3-9888-f7130bc8a512",
        "outputId": "0e62eb18-7291-496e-ced7-fb01ae419560",
        "colab": {
          "base_uri": "https://localhost:8080/"
        }
      },
      "outputs": [
        {
          "output_type": "stream",
          "name": "stdout",
          "text": [
            "Null removed\n"
          ]
        }
      ],
      "source": [
        "#drop nulls\n",
        "df.drop_nulls()\n",
        "print('Null removed')"
      ]
    },
    {
      "cell_type": "markdown",
      "id": "2505336e-9cb9-43cf-afef-85d97f66e21d",
      "metadata": {
        "id": "2505336e-9cb9-43cf-afef-85d97f66e21d"
      },
      "source": [
        "I would like to add the `title` column to `context` . there will a columns less to process."
      ]
    },
    {
      "cell_type": "code",
      "execution_count": 147,
      "id": "160490a9-4b2a-4a1f-96fe-33cb506ebc6c",
      "metadata": {
        "id": "160490a9-4b2a-4a1f-96fe-33cb506ebc6c"
      },
      "outputs": [],
      "source": [
        "df = df.with_columns(\n",
        "    (pl.col('title') + '  ' +pl.col('context')).alias('newcontext')\n",
        ")"
      ]
    },
    {
      "cell_type": "code",
      "execution_count": 148,
      "id": "50bf7da2-0f4a-4cef-8b3b-a0bcb82453e5",
      "metadata": {
        "id": "50bf7da2-0f4a-4cef-8b3b-a0bcb82453e5"
      },
      "outputs": [],
      "source": [
        "df = df.with_columns([\n",
        "    (pl.col(\"context\").apply(lambda x: len(str(x).split(' '))).alias(\"context_len\")),\n",
        "    (pl.col(\"newcontext\").apply(lambda x: len(str(x).split(' '))).alias(\"newcontext_len\")),\n",
        "    (pl.col(\"questions\").apply(lambda x: len(str(x).split(' '))).alias(\"question_len\")),\n",
        "    (pl.col(\"answer_text\").apply(lambda x: len(str(x).split(' '))).alias(\"answer_len\"))])"
      ]
    },
    {
      "cell_type": "code",
      "execution_count": 149,
      "id": "b664f195-7b93-4810-853e-95921a9ca20a",
      "metadata": {
        "id": "b664f195-7b93-4810-853e-95921a9ca20a",
        "outputId": "3ecc4f93-b50d-4814-b3b7-7b0e742c3f87",
        "colab": {
          "base_uri": "https://localhost:8080/",
          "height": 306
        }
      },
      "outputs": [
        {
          "output_type": "execute_result",
          "data": {
            "text/plain": [
              "shape: (5, 16)\n",
              "┌────────┬───────────┬───────────┬──────────┬─────┬───────────┬────────────┬────────────┬──────────┐\n",
              "│        ┆ title     ┆ context   ┆ ids      ┆ ... ┆ context_l ┆ newcontext ┆ question_l ┆ answer_l │\n",
              "│ ---    ┆ ---       ┆ ---       ┆ ---      ┆     ┆ en        ┆ _len       ┆ en         ┆ en       │\n",
              "│ i64    ┆ str       ┆ str       ┆ str      ┆     ┆ ---       ┆ ---        ┆ ---        ┆ ---      │\n",
              "│        ┆           ┆           ┆          ┆     ┆ i64       ┆ i64        ┆ i64        ┆ i64      │\n",
              "╞════════╪═══════════╪═══════════╪══════════╪═════╪═══════════╪════════════╪════════════╪══════════╡\n",
              "│ 34116  ┆ Hanover   ┆ Some      ┆ 5709fd23 ┆ ... ┆ 121       ┆ 123        ┆ 9          ┆ 1        │\n",
              "│        ┆           ┆ other     ┆ 41035114 ┆     ┆           ┆            ┆            ┆          │\n",
              "│        ┆           ┆ popular   ┆ 00d594e3 ┆     ┆           ┆            ┆            ┆          │\n",
              "│        ┆           ┆ sights    ┆          ┆     ┆           ┆            ┆            ┆          │\n",
              "│        ┆           ┆ are th... ┆          ┆     ┆           ┆            ┆            ┆          │\n",
              "│ 44417  ┆ Sexual_or ┆ Translati ┆ 571001fe ┆ ... ┆ 151       ┆ 153        ┆ 9          ┆ 1        │\n",
              "│        ┆ ientation ┆ on is a   ┆ a58dae19 ┆     ┆           ┆            ┆            ┆          │\n",
              "│        ┆           ┆ major     ┆ 00cd67c6 ┆     ┆           ┆            ┆            ┆          │\n",
              "│        ┆           ┆ obstacle  ┆          ┆     ┆           ┆            ┆            ┆          │\n",
              "│        ┆           ┆ ...       ┆          ┆     ┆           ┆            ┆            ┆          │\n",
              "│ 127627 ┆ Universit ┆ Besides   ┆ 573383e9 ┆ ... ┆ 179       ┆ 181        ┆ 8          ┆ 4        │\n",
              "│        ┆ y_of_Notr ┆ its promi ┆ 4776f419 ┆     ┆           ┆            ┆            ┆          │\n",
              "│        ┆ e_Dame    ┆ nence in  ┆ 00660c5a ┆     ┆           ┆            ┆            ┆          │\n",
              "│        ┆           ┆ sports... ┆          ┆     ┆           ┆            ┆            ┆          │\n",
              "│ 101298 ┆ Seven_Yea ┆ The Anglo ┆ 572f9a52 ┆ ... ┆ 158       ┆ 160        ┆ 7          ┆ 17       │\n",
              "│        ┆ rs%27_War ┆ -French   ┆ b2c2fd14 ┆     ┆           ┆            ┆            ┆          │\n",
              "│        ┆           ┆ hostiliti ┆ 0056823d ┆     ┆           ┆            ┆            ┆          │\n",
              "│        ┆           ┆ es wer... ┆          ┆     ┆           ┆            ┆            ┆          │\n",
              "│ 79149  ┆ Cork_(cit ┆ The       ┆ 5727ab6e ┆ ... ┆ 90        ┆ 92         ┆ 7          ┆ 4        │\n",
              "│        ┆ y)        ┆ climate   ┆ 2ca10214 ┆     ┆           ┆            ┆            ┆          │\n",
              "│        ┆           ┆ of Cork,  ┆ 002d9351 ┆     ┆           ┆            ┆            ┆          │\n",
              "│        ┆           ┆ like the  ┆          ┆     ┆           ┆            ┆            ┆          │\n",
              "│        ┆           ┆ re...     ┆          ┆     ┆           ┆            ┆            ┆          │\n",
              "└────────┴───────────┴───────────┴──────────┴─────┴───────────┴────────────┴────────────┴──────────┘"
            ],
            "text/html": [
              "<div>\n",
              "<style>\n",
              ".pl-dataframe > thead > tr > th {\n",
              "  text-align: right;\n",
              "}\n",
              "</style>\n",
              "\n",
              "<table border=\"1\" class=\"pl-dataframe\">\n",
              "<small>shape: (5, 16)</small>\n",
              "<thead>\n",
              "<tr>\n",
              "<th>\n",
              "\n",
              "</th>\n",
              "<th>\n",
              "title\n",
              "</th>\n",
              "<th>\n",
              "context\n",
              "</th>\n",
              "<th>\n",
              "ids\n",
              "</th>\n",
              "<th>\n",
              "questions\n",
              "</th>\n",
              "<th>\n",
              "answers\n",
              "</th>\n",
              "<th>\n",
              "is_imposible\n",
              "</th>\n",
              "<th>\n",
              "anslen\n",
              "</th>\n",
              "<th>\n",
              "answers_clean\n",
              "</th>\n",
              "<th>\n",
              "answer_text\n",
              "</th>\n",
              "<th>\n",
              "answer_start\n",
              "</th>\n",
              "<th>\n",
              "newcontext\n",
              "</th>\n",
              "<th>\n",
              "context_len\n",
              "</th>\n",
              "<th>\n",
              "newcontext_len\n",
              "</th>\n",
              "<th>\n",
              "question_len\n",
              "</th>\n",
              "<th>\n",
              "answer_len\n",
              "</th>\n",
              "</tr>\n",
              "<tr>\n",
              "<td>\n",
              "i64\n",
              "</td>\n",
              "<td>\n",
              "str\n",
              "</td>\n",
              "<td>\n",
              "str\n",
              "</td>\n",
              "<td>\n",
              "str\n",
              "</td>\n",
              "<td>\n",
              "str\n",
              "</td>\n",
              "<td>\n",
              "str\n",
              "</td>\n",
              "<td>\n",
              "bool\n",
              "</td>\n",
              "<td>\n",
              "i64\n",
              "</td>\n",
              "<td>\n",
              "str\n",
              "</td>\n",
              "<td>\n",
              "str\n",
              "</td>\n",
              "<td>\n",
              "i64\n",
              "</td>\n",
              "<td>\n",
              "str\n",
              "</td>\n",
              "<td>\n",
              "i64\n",
              "</td>\n",
              "<td>\n",
              "i64\n",
              "</td>\n",
              "<td>\n",
              "i64\n",
              "</td>\n",
              "<td>\n",
              "i64\n",
              "</td>\n",
              "</tr>\n",
              "</thead>\n",
              "<tbody>\n",
              "<tr>\n",
              "<td>\n",
              "34116\n",
              "</td>\n",
              "<td>\n",
              "&quot;Hanover&quot;\n",
              "</td>\n",
              "<td>\n",
              "&quot;Some other pop...\n",
              "</td>\n",
              "<td>\n",
              "&quot;5709fd23410351...\n",
              "</td>\n",
              "<td>\n",
              "&quot;What nationali...\n",
              "</td>\n",
              "<td>\n",
              "&quot;[{&#x27;text&#x27;: &#x27;Ame...\n",
              "</td>\n",
              "<td>\n",
              "false\n",
              "</td>\n",
              "<td>\n",
              "1\n",
              "</td>\n",
              "<td>\n",
              "&quot;{&#x27;text&#x27;: &#x27;Amer...\n",
              "</td>\n",
              "<td>\n",
              "&quot;American&quot;\n",
              "</td>\n",
              "<td>\n",
              "396\n",
              "</td>\n",
              "<td>\n",
              "&quot;Hanover  Some ...\n",
              "</td>\n",
              "<td>\n",
              "121\n",
              "</td>\n",
              "<td>\n",
              "123\n",
              "</td>\n",
              "<td>\n",
              "9\n",
              "</td>\n",
              "<td>\n",
              "1\n",
              "</td>\n",
              "</tr>\n",
              "<tr>\n",
              "<td>\n",
              "44417\n",
              "</td>\n",
              "<td>\n",
              "&quot;Sexual_orienta...\n",
              "</td>\n",
              "<td>\n",
              "&quot;Translation is...\n",
              "</td>\n",
              "<td>\n",
              "&quot;571001fea58dae...\n",
              "</td>\n",
              "<td>\n",
              "&quot;What is a majo...\n",
              "</td>\n",
              "<td>\n",
              "&quot;[{&#x27;text&#x27;: &#x27;Tra...\n",
              "</td>\n",
              "<td>\n",
              "false\n",
              "</td>\n",
              "<td>\n",
              "1\n",
              "</td>\n",
              "<td>\n",
              "&quot;{&#x27;text&#x27;: &#x27;Tran...\n",
              "</td>\n",
              "<td>\n",
              "&quot;Translation&quot;\n",
              "</td>\n",
              "<td>\n",
              "0\n",
              "</td>\n",
              "<td>\n",
              "&quot;Sexual_orienta...\n",
              "</td>\n",
              "<td>\n",
              "151\n",
              "</td>\n",
              "<td>\n",
              "153\n",
              "</td>\n",
              "<td>\n",
              "9\n",
              "</td>\n",
              "<td>\n",
              "1\n",
              "</td>\n",
              "</tr>\n",
              "<tr>\n",
              "<td>\n",
              "127627\n",
              "</td>\n",
              "<td>\n",
              "&quot;University_of_...\n",
              "</td>\n",
              "<td>\n",
              "&quot;Besides its pr...\n",
              "</td>\n",
              "<td>\n",
              "&quot;573383e94776f4...\n",
              "</td>\n",
              "<td>\n",
              "&quot;Where among US...\n",
              "</td>\n",
              "<td>\n",
              "&quot;[{&#x27;text&#x27;: &#x27;amo...\n",
              "</td>\n",
              "<td>\n",
              "false\n",
              "</td>\n",
              "<td>\n",
              "1\n",
              "</td>\n",
              "<td>\n",
              "&quot;{&#x27;text&#x27;: &#x27;amon...\n",
              "</td>\n",
              "<td>\n",
              "&quot;among the top ...\n",
              "</td>\n",
              "<td>\n",
              "140\n",
              "</td>\n",
              "<td>\n",
              "&quot;University_of_...\n",
              "</td>\n",
              "<td>\n",
              "179\n",
              "</td>\n",
              "<td>\n",
              "181\n",
              "</td>\n",
              "<td>\n",
              "8\n",
              "</td>\n",
              "<td>\n",
              "4\n",
              "</td>\n",
              "</tr>\n",
              "<tr>\n",
              "<td>\n",
              "101298\n",
              "</td>\n",
              "<td>\n",
              "&quot;Seven_Years%27...\n",
              "</td>\n",
              "<td>\n",
              "&quot;The Anglo-Fren...\n",
              "</td>\n",
              "<td>\n",
              "&quot;572f9a52b2c2fd...\n",
              "</td>\n",
              "<td>\n",
              "&quot;What country e...\n",
              "</td>\n",
              "<td>\n",
              "&quot;[{&#x27;text&#x27;: &quot;Spa...\n",
              "</td>\n",
              "<td>\n",
              "false\n",
              "</td>\n",
              "<td>\n",
              "1\n",
              "</td>\n",
              "<td>\n",
              "&quot;{&#x27;text&#x27;: &quot;Spai...\n",
              "</td>\n",
              "<td>\n",
              "&quot;Spain lost con...\n",
              "</td>\n",
              "<td>\n",
              "574\n",
              "</td>\n",
              "<td>\n",
              "&quot;Seven_Years%27...\n",
              "</td>\n",
              "<td>\n",
              "158\n",
              "</td>\n",
              "<td>\n",
              "160\n",
              "</td>\n",
              "<td>\n",
              "7\n",
              "</td>\n",
              "<td>\n",
              "17\n",
              "</td>\n",
              "</tr>\n",
              "<tr>\n",
              "<td>\n",
              "79149\n",
              "</td>\n",
              "<td>\n",
              "&quot;Cork_(city)&quot;\n",
              "</td>\n",
              "<td>\n",
              "&quot;The climate of...\n",
              "</td>\n",
              "<td>\n",
              "&quot;5727ab6e2ca102...\n",
              "</td>\n",
              "<td>\n",
              "&quot;Where are some...\n",
              "</td>\n",
              "<td>\n",
              "&quot;[{&#x27;text&#x27;: &#x27;UCC...\n",
              "</td>\n",
              "<td>\n",
              "false\n",
              "</td>\n",
              "<td>\n",
              "1\n",
              "</td>\n",
              "<td>\n",
              "&quot;{&#x27;text&#x27;: &#x27;UCC ...\n",
              "</td>\n",
              "<td>\n",
              "&quot;UCC and Clover...\n",
              "</td>\n",
              "<td>\n",
              "496\n",
              "</td>\n",
              "<td>\n",
              "&quot;Cork_(city)  T...\n",
              "</td>\n",
              "<td>\n",
              "90\n",
              "</td>\n",
              "<td>\n",
              "92\n",
              "</td>\n",
              "<td>\n",
              "7\n",
              "</td>\n",
              "<td>\n",
              "4\n",
              "</td>\n",
              "</tr>\n",
              "</tbody>\n",
              "</table>\n",
              "</div>"
            ]
          },
          "metadata": {},
          "execution_count": 149
        }
      ],
      "source": [
        "df.sample(5)"
      ]
    },
    {
      "cell_type": "code",
      "execution_count": 149,
      "id": "e0c8d2c2-b7ad-437e-bdcc-d965a84f39f4",
      "metadata": {
        "id": "e0c8d2c2-b7ad-437e-bdcc-d965a84f39f4"
      },
      "outputs": [],
      "source": []
    },
    {
      "cell_type": "markdown",
      "id": "7d7871b6-6bb6-4ef8-aebe-17619e886e64",
      "metadata": {
        "id": "7d7871b6-6bb6-4ef8-aebe-17619e886e64"
      },
      "source": [
        "# Dataset Analysis"
      ]
    },
    {
      "cell_type": "code",
      "execution_count": 150,
      "id": "8f0e4ea3-b0d9-4784-bd4e-e82c28d4faa4",
      "metadata": {
        "id": "8f0e4ea3-b0d9-4784-bd4e-e82c28d4faa4"
      },
      "outputs": [],
      "source": [
        "#plotting a verticle axis for 95% mark\n",
        "def dist_info(x, r:tuple = (90,100), bins:int = 100, title = 'old', xlim:list = None, ylim:list = None):\n",
        "    \n",
        "    '''\n",
        "    this function plot distribution of series with axis lines with given range.\n",
        "    \n",
        "    x : series  = series of numbers\n",
        "    r : tuple   =  tuple with low and high values to plot\n",
        "    title : str =  title of the plot\n",
        "    xlim : list = low and high limit to limit the plot\n",
        "    ylim : list = similar to xlim\n",
        "    '''\n",
        "    \n",
        "    print('Percent  ::   words  \\n')\n",
        "    plt.figure(figsize = (25,5))\n",
        "    sns.histplot(x = x, bins = bins)\n",
        "\n",
        "    for percent in range(r[0], r[1]+1):\n",
        "        perc_x = np.percentile(x, percent)\n",
        "        print(f'{percent:6}%  ::   {perc_x} words') \n",
        "        plt.axvline(x = perc_x, color = 'red')\n",
        "        plt.text(x = perc_x, y = 2500+np.random.randint(100, 400), s = f'{percent}%')\n",
        "    \n",
        "    plt.xlim(xlim)\n",
        "    plt.ylim(ylim)\n",
        "    if title =='old':\n",
        "        plt.title(f'Length Distribution of {x.name}')\n",
        "    else:\n",
        "        plt.title(str(title))\n",
        "    # plt.show()\n"
      ]
    },
    {
      "cell_type": "markdown",
      "id": "bcb160f9-5b3e-480b-b350-9d79d0ae4017",
      "metadata": {
        "id": "bcb160f9-5b3e-480b-b350-9d79d0ae4017"
      },
      "source": [
        "## 1. Context"
      ]
    },
    {
      "cell_type": "code",
      "execution_count": 151,
      "id": "3a4cc959-0c82-4355-9f1a-7c08f9061efa",
      "metadata": {
        "id": "3a4cc959-0c82-4355-9f1a-7c08f9061efa",
        "outputId": "62536196-8021-4e68-8462-8064a9dcd3fa",
        "colab": {
          "base_uri": "https://localhost:8080/",
          "height": 490
        }
      },
      "outputs": [
        {
          "output_type": "stream",
          "name": "stdout",
          "text": [
            "Percent  ::   words  \n",
            "\n",
            "    95%  ::   215.0 words\n",
            "    96%  ::   224.0 words\n",
            "    97%  ::   236.0 words\n",
            "    98%  ::   254.0 words\n",
            "    99%  ::   285.0 words\n",
            "   100%  ::   655.0 words\n"
          ]
        },
        {
          "output_type": "display_data",
          "data": {
            "text/plain": [
              "<Figure size 1800x360 with 1 Axes>"
            ],
            "image/png": "[encoded data removed]"
          },
          "metadata": {
            "needs_background": "light"
          }
        }
      ],
      "source": [
        "dist_info(df['newcontext_len'], (95,100))\n"
      ]
    },
    {
      "cell_type": "markdown",
      "id": "638cd687-9f59-4389-ad29-38b8c2d25dc1",
      "metadata": {
        "id": "638cd687-9f59-4389-ad29-38b8c2d25dc1"
      },
      "source": [
        "In Order to Cover 100 percent of the data we need to create input length of 653 words which is too much. "
      ]
    },
    {
      "cell_type": "code",
      "execution_count": 152,
      "id": "eb092721-3eb6-48c6-bc74-09b4d6a6e04a",
      "metadata": {
        "id": "eb092721-3eb6-48c6-bc74-09b4d6a6e04a"
      },
      "outputs": [],
      "source": [
        "context_input_len = 1000 + 2 # +2 for <SOS> AND <EOS>"
      ]
    },
    {
      "cell_type": "code",
      "execution_count": 153,
      "id": "29460077-d2a6-456f-a18c-a4d0e021139e",
      "metadata": {
        "id": "29460077-d2a6-456f-a18c-a4d0e021139e"
      },
      "outputs": [],
      "source": [
        "# Unique words in  context\n",
        "# all_words = [i.split() for i in df['newcontext']]"
      ]
    },
    {
      "cell_type": "markdown",
      "id": "613ab202-f672-47e0-9853-bc88597d2427",
      "metadata": {
        "id": "613ab202-f672-47e0-9853-bc88597d2427"
      },
      "source": [
        "## 2. Questions"
      ]
    },
    {
      "cell_type": "code",
      "execution_count": 154,
      "id": "cbf28125-b189-4cd6-bab7-c41f769036ae",
      "metadata": {
        "id": "cbf28125-b189-4cd6-bab7-c41f769036ae",
        "outputId": "c5cefae6-ed6b-431f-dad8-46ef09dc8247",
        "colab": {
          "base_uri": "https://localhost:8080/"
        }
      },
      "outputs": [
        {
          "output_type": "execute_result",
          "data": {
            "text/plain": [
              "25601"
            ]
          },
          "metadata": {},
          "execution_count": 154
        }
      ],
      "source": [
        "df['question_len'].max()"
      ]
    },
    {
      "cell_type": "code",
      "execution_count": 155,
      "id": "f1729ec7-670e-43b5-b4d2-118883b9ac8d",
      "metadata": {
        "id": "f1729ec7-670e-43b5-b4d2-118883b9ac8d",
        "outputId": "9b2262a3-13cd-4efe-b1df-da6a0a45114a",
        "colab": {
          "base_uri": "https://localhost:8080/",
          "height": 473
        }
      },
      "outputs": [
        {
          "output_type": "stream",
          "name": "stdout",
          "text": [
            "Percent  ::   words  \n",
            "\n",
            "    95%  ::   17.0 words\n",
            "    96%  ::   17.0 words\n",
            "    97%  ::   18.0 words\n",
            "    98%  ::   19.0 words\n",
            "    99%  ::   21.0 words\n"
          ]
        },
        {
          "output_type": "display_data",
          "data": {
            "text/plain": [
              "<Figure size 1800x360 with 1 Axes>"
            ],
            "image/png": "[encoded data removed]"
          },
          "metadata": {
            "needs_background": "light"
          }
        }
      ],
      "source": [
        "dist_info(x = df['question_len'], r = (95,99), xlim=[2,40], bins = 10000)"
      ]
    },
    {
      "cell_type": "markdown",
      "id": "832254f5-e5e4-4e37-aa89-366ebb9a67ea",
      "metadata": {
        "id": "832254f5-e5e4-4e37-aa89-366ebb9a67ea"
      },
      "source": [
        "clearly there are too much bins "
      ]
    },
    {
      "cell_type": "markdown",
      "id": "238db8f9-8965-48ac-bb6d-612f3aa84a87",
      "metadata": {
        "id": "238db8f9-8965-48ac-bb6d-612f3aa84a87"
      },
      "source": [
        "Similar to context , for input for questions we would go with 50 words , it covers 99% data "
      ]
    },
    {
      "cell_type": "code",
      "execution_count": 156,
      "id": "784f82eb-3e0c-4055-a993-7bae67cbbab2",
      "metadata": {
        "id": "784f82eb-3e0c-4055-a993-7bae67cbbab2"
      },
      "outputs": [],
      "source": [
        "question_inputs_len = 50 + 2 # for <SOS> AND <EOS>"
      ]
    },
    {
      "cell_type": "markdown",
      "id": "15873986-7491-4443-bbec-a0cd88fe6f9a",
      "metadata": {
        "id": "15873986-7491-4443-bbec-a0cd88fe6f9a"
      },
      "source": [
        "## 3. Answers"
      ]
    },
    {
      "cell_type": "code",
      "execution_count": 157,
      "id": "3bcec8bd-f159-44f6-90ed-aac37fcc4c3f",
      "metadata": {
        "id": "3bcec8bd-f159-44f6-90ed-aac37fcc4c3f",
        "outputId": "10c45b3f-31c1-458d-e559-4b1ac6343dd3",
        "colab": {
          "base_uri": "https://localhost:8080/",
          "height": 490
        }
      },
      "outputs": [
        {
          "output_type": "stream",
          "name": "stdout",
          "text": [
            "Percent  ::   words  \n",
            "\n",
            "    95%  ::   10.0 words\n",
            "    96%  ::   11.0 words\n",
            "    97%  ::   13.0 words\n",
            "    98%  ::   15.0 words\n",
            "    99%  ::   18.0 words\n",
            "   100%  ::   43.0 words\n"
          ]
        },
        {
          "output_type": "display_data",
          "data": {
            "text/plain": [
              "<Figure size 1800x360 with 1 Axes>"
            ],
            "image/png": "[encoded data removed]"
          },
          "metadata": {
            "needs_background": "light"
          }
        }
      ],
      "source": [
        "dist_info(df['answer_len'], (95,100))\n"
      ]
    },
    {
      "cell_type": "markdown",
      "id": "16aaf745-33a5-4166-9e2f-ff8226322420",
      "metadata": {
        "id": "16aaf745-33a5-4166-9e2f-ff8226322420"
      },
      "source": [
        "Similar to context , for input for answers we would go with 50 words , it covers 100% data "
      ]
    },
    {
      "cell_type": "code",
      "execution_count": 158,
      "id": "614ffbc7-61c5-45ed-bb7a-13b09c6181f2",
      "metadata": {
        "id": "614ffbc7-61c5-45ed-bb7a-13b09c6181f2"
      },
      "outputs": [],
      "source": [
        "answer_inputs_len = 50 + 2 # for <SOS> AND <EOS>"
      ]
    },
    {
      "cell_type": "markdown",
      "id": "ebaafbd6-315d-41bc-ac59-b8588cb1d6d0",
      "metadata": {
        "id": "ebaafbd6-315d-41bc-ac59-b8588cb1d6d0"
      },
      "source": [
        "# Preprocessing TEXT"
      ]
    },
    {
      "cell_type": "code",
      "execution_count": 159,
      "id": "15f9101f-21b5-42b1-a8a0-cc6e9c86d4cd",
      "metadata": {
        "id": "15f9101f-21b5-42b1-a8a0-cc6e9c86d4cd"
      },
      "outputs": [],
      "source": [
        "# FUNCTIONS TO EXPAND CONTRACTIONS\n",
        "\n",
        "with open('contractions.json') as f:\n",
        "   contractions_dict = json.load(f)\n",
        "\n",
        "def cont_to_exp(x):\n",
        "    x = str(x).lower()\n",
        "    xsplited = x.split(' ')\n",
        "    exp_sentence = []\n",
        "    for s in x.split():\n",
        "        if s in contractions_dict.keys():\n",
        "            \n",
        "            s = contractions_dict.get(s)\n",
        "        exp_sentence.append(s)\n",
        "        \n",
        "    x = ' '.join(exp_sentence)\n",
        "    return x\n"
      ]
    },
    {
      "cell_type": "code",
      "execution_count": 160,
      "id": "30957b64-c812-44c0-82be-1af72414397b",
      "metadata": {
        "id": "30957b64-c812-44c0-82be-1af72414397b"
      },
      "outputs": [],
      "source": [
        "# very necessary function you can't tell differece between \"’\" and \"'\", I don't even have that symbol in my keyboard\n",
        "def text_cleaning_apos(text):\n",
        "    text = str(text)\n",
        "    text = text.lower()\n",
        "    text = re.sub(\"’\", \"'\", text) # removing punctuation\n",
        "    text = cont_to_exp(text)\n",
        "    text = re.sub('[#,@,&]', '',text)\n",
        "    text = re.sub(\"'s\",'', text)\n",
        "    text = text.replace(\"?\",' ?')\n",
        "    text = text.replace(\".\",' .')\n",
        "    text = text.replace(\"!\",' !')\n",
        "    text = text.replace(\",\",' ,')\n",
        "\n",
        "    # text = re.sub(r'\\s+[a-zA-Z]\\s+', ' ', text)\n",
        "    return text"
      ]
    },
    {
      "cell_type": "code",
      "execution_count": 161,
      "id": "5b1cd05b-0340-4fb3-990c-838c63c3409b",
      "metadata": {
        "id": "5b1cd05b-0340-4fb3-990c-838c63c3409b"
      },
      "outputs": [],
      "source": [
        "# # func 1\n",
        "# df = df.with_columns([\n",
        "#     (pl.col(\"newcontext\").apply(lambda x: text_cleaning_apos(x))),\n",
        "#     (pl.col(\"questions\").apply(lambda x: text_cleaning_apos(x))),\n",
        "#     (pl.col(\"answer_text\").apply(lambda x: text_cleaning_apos(x)))\n",
        "\n",
        "# ])"
      ]
    },
    {
      "cell_type": "code",
      "source": [
        "df.head(5)"
      ],
      "metadata": {
        "id": "Nt5hWVqFjLhM",
        "outputId": "8b808c14-1d2d-47e2-d484-3c3a5e9dc7f0",
        "colab": {
          "base_uri": "https://localhost:8080/",
          "height": 289
        }
      },
      "id": "Nt5hWVqFjLhM",
      "execution_count": 162,
      "outputs": [
        {
          "output_type": "execute_result",
          "data": {
            "text/plain": [
              "shape: (5, 16)\n",
              "┌─────┬─────────┬────────────┬────────────┬─────┬───────────┬────────────┬────────────┬────────────┐\n",
              "│     ┆ title   ┆ context    ┆ ids        ┆ ... ┆ context_l ┆ newcontext ┆ question_l ┆ answer_len │\n",
              "│ --- ┆ ---     ┆ ---        ┆ ---        ┆     ┆ en        ┆ _len       ┆ en         ┆ ---        │\n",
              "│ i64 ┆ str     ┆ str        ┆ str        ┆     ┆ ---       ┆ ---        ┆ ---        ┆ i64        │\n",
              "│     ┆         ┆            ┆            ┆     ┆ i64       ┆ i64        ┆ i64        ┆            │\n",
              "╞═════╪═════════╪════════════╪════════════╪═════╪═══════════╪════════════╪════════════╪════════════╡\n",
              "│ 0   ┆ Beyoncé ┆ Beyoncé    ┆ 56be85543a ┆ ... ┆ 109       ┆ 111        ┆ 6          ┆ 4          │\n",
              "│     ┆         ┆ Giselle    ┆ eaaa14008c ┆     ┆           ┆            ┆            ┆            │\n",
              "│     ┆         ┆ Knowles-Ca ┆ 9063       ┆     ┆           ┆            ┆            ┆            │\n",
              "│     ┆         ┆ rter (...  ┆            ┆     ┆           ┆            ┆            ┆            │\n",
              "│ 1   ┆ Beyoncé ┆ Beyoncé    ┆ 56be85543a ┆ ... ┆ 109       ┆ 111        ┆ 11         ┆ 3          │\n",
              "│     ┆         ┆ Giselle    ┆ eaaa14008c ┆     ┆           ┆            ┆            ┆            │\n",
              "│     ┆         ┆ Knowles-Ca ┆ 9065       ┆     ┆           ┆            ┆            ┆            │\n",
              "│     ┆         ┆ rter (...  ┆            ┆     ┆           ┆            ┆            ┆            │\n",
              "│ 2   ┆ Beyoncé ┆ Beyoncé    ┆ 56be85543a ┆ ... ┆ 109       ┆ 111        ┆ 11         ┆ 1          │\n",
              "│     ┆         ┆ Giselle    ┆ eaaa14008c ┆     ┆           ┆            ┆            ┆            │\n",
              "│     ┆         ┆ Knowles-Ca ┆ 9066       ┆     ┆           ┆            ┆            ┆            │\n",
              "│     ┆         ┆ rter (...  ┆            ┆     ┆           ┆            ┆            ┆            │\n",
              "│ 3   ┆ Beyoncé ┆ Beyoncé    ┆ 56bf6b0f3a ┆ ... ┆ 109       ┆ 111        ┆ 11         ┆ 2          │\n",
              "│     ┆         ┆ Giselle    ┆ eaaa14008c ┆     ┆           ┆            ┆            ┆            │\n",
              "│     ┆         ┆ Knowles-Ca ┆ 9601       ┆     ┆           ┆            ┆            ┆            │\n",
              "│     ┆         ┆ rter (...  ┆            ┆     ┆           ┆            ┆            ┆            │\n",
              "│ 4   ┆ Beyoncé ┆ Beyoncé    ┆ 56bf6b0f3a ┆ ... ┆ 109       ┆ 111        ┆ 7          ┆ 2          │\n",
              "│     ┆         ┆ Giselle    ┆ eaaa14008c ┆     ┆           ┆            ┆            ┆            │\n",
              "│     ┆         ┆ Knowles-Ca ┆ 9602       ┆     ┆           ┆            ┆            ┆            │\n",
              "│     ┆         ┆ rter (...  ┆            ┆     ┆           ┆            ┆            ┆            │\n",
              "└─────┴─────────┴────────────┴────────────┴─────┴───────────┴────────────┴────────────┴────────────┘"
            ],
            "text/html": [
              "<div>\n",
              "<style>\n",
              ".pl-dataframe > thead > tr > th {\n",
              "  text-align: right;\n",
              "}\n",
              "</style>\n",
              "\n",
              "<table border=\"1\" class=\"pl-dataframe\">\n",
              "<small>shape: (5, 16)</small>\n",
              "<thead>\n",
              "<tr>\n",
              "<th>\n",
              "\n",
              "</th>\n",
              "<th>\n",
              "title\n",
              "</th>\n",
              "<th>\n",
              "context\n",
              "</th>\n",
              "<th>\n",
              "ids\n",
              "</th>\n",
              "<th>\n",
              "questions\n",
              "</th>\n",
              "<th>\n",
              "answers\n",
              "</th>\n",
              "<th>\n",
              "is_imposible\n",
              "</th>\n",
              "<th>\n",
              "anslen\n",
              "</th>\n",
              "<th>\n",
              "answers_clean\n",
              "</th>\n",
              "<th>\n",
              "answer_text\n",
              "</th>\n",
              "<th>\n",
              "answer_start\n",
              "</th>\n",
              "<th>\n",
              "newcontext\n",
              "</th>\n",
              "<th>\n",
              "context_len\n",
              "</th>\n",
              "<th>\n",
              "newcontext_len\n",
              "</th>\n",
              "<th>\n",
              "question_len\n",
              "</th>\n",
              "<th>\n",
              "answer_len\n",
              "</th>\n",
              "</tr>\n",
              "<tr>\n",
              "<td>\n",
              "i64\n",
              "</td>\n",
              "<td>\n",
              "str\n",
              "</td>\n",
              "<td>\n",
              "str\n",
              "</td>\n",
              "<td>\n",
              "str\n",
              "</td>\n",
              "<td>\n",
              "str\n",
              "</td>\n",
              "<td>\n",
              "str\n",
              "</td>\n",
              "<td>\n",
              "bool\n",
              "</td>\n",
              "<td>\n",
              "i64\n",
              "</td>\n",
              "<td>\n",
              "str\n",
              "</td>\n",
              "<td>\n",
              "str\n",
              "</td>\n",
              "<td>\n",
              "i64\n",
              "</td>\n",
              "<td>\n",
              "str\n",
              "</td>\n",
              "<td>\n",
              "i64\n",
              "</td>\n",
              "<td>\n",
              "i64\n",
              "</td>\n",
              "<td>\n",
              "i64\n",
              "</td>\n",
              "<td>\n",
              "i64\n",
              "</td>\n",
              "</tr>\n",
              "</thead>\n",
              "<tbody>\n",
              "<tr>\n",
              "<td>\n",
              "0\n",
              "</td>\n",
              "<td>\n",
              "&quot;Beyoncé&quot;\n",
              "</td>\n",
              "<td>\n",
              "&quot;Beyoncé Gisell...\n",
              "</td>\n",
              "<td>\n",
              "&quot;56be85543aeaaa...\n",
              "</td>\n",
              "<td>\n",
              "&quot;When did Beyon...\n",
              "</td>\n",
              "<td>\n",
              "&quot;[{&#x27;text&#x27;: &#x27;in ...\n",
              "</td>\n",
              "<td>\n",
              "false\n",
              "</td>\n",
              "<td>\n",
              "1\n",
              "</td>\n",
              "<td>\n",
              "&quot;{&#x27;text&#x27;: &#x27;in t...\n",
              "</td>\n",
              "<td>\n",
              "&quot;in the late 19...\n",
              "</td>\n",
              "<td>\n",
              "269\n",
              "</td>\n",
              "<td>\n",
              "&quot;Beyoncé  Beyon...\n",
              "</td>\n",
              "<td>\n",
              "109\n",
              "</td>\n",
              "<td>\n",
              "111\n",
              "</td>\n",
              "<td>\n",
              "6\n",
              "</td>\n",
              "<td>\n",
              "4\n",
              "</td>\n",
              "</tr>\n",
              "<tr>\n",
              "<td>\n",
              "1\n",
              "</td>\n",
              "<td>\n",
              "&quot;Beyoncé&quot;\n",
              "</td>\n",
              "<td>\n",
              "&quot;Beyoncé Gisell...\n",
              "</td>\n",
              "<td>\n",
              "&quot;56be85543aeaaa...\n",
              "</td>\n",
              "<td>\n",
              "&quot;What areas did...\n",
              "</td>\n",
              "<td>\n",
              "&quot;[{&#x27;text&#x27;: &#x27;sin...\n",
              "</td>\n",
              "<td>\n",
              "false\n",
              "</td>\n",
              "<td>\n",
              "1\n",
              "</td>\n",
              "<td>\n",
              "&quot;{&#x27;text&#x27;: &#x27;sing...\n",
              "</td>\n",
              "<td>\n",
              "&quot;singing and da...\n",
              "</td>\n",
              "<td>\n",
              "207\n",
              "</td>\n",
              "<td>\n",
              "&quot;Beyoncé  Beyon...\n",
              "</td>\n",
              "<td>\n",
              "109\n",
              "</td>\n",
              "<td>\n",
              "111\n",
              "</td>\n",
              "<td>\n",
              "11\n",
              "</td>\n",
              "<td>\n",
              "3\n",
              "</td>\n",
              "</tr>\n",
              "<tr>\n",
              "<td>\n",
              "2\n",
              "</td>\n",
              "<td>\n",
              "&quot;Beyoncé&quot;\n",
              "</td>\n",
              "<td>\n",
              "&quot;Beyoncé Gisell...\n",
              "</td>\n",
              "<td>\n",
              "&quot;56be85543aeaaa...\n",
              "</td>\n",
              "<td>\n",
              "&quot;When did Beyon...\n",
              "</td>\n",
              "<td>\n",
              "&quot;[{&#x27;text&#x27;: &#x27;200...\n",
              "</td>\n",
              "<td>\n",
              "false\n",
              "</td>\n",
              "<td>\n",
              "1\n",
              "</td>\n",
              "<td>\n",
              "&quot;{&#x27;text&#x27;: &#x27;2003...\n",
              "</td>\n",
              "<td>\n",
              "&quot;2003&quot;\n",
              "</td>\n",
              "<td>\n",
              "526\n",
              "</td>\n",
              "<td>\n",
              "&quot;Beyoncé  Beyon...\n",
              "</td>\n",
              "<td>\n",
              "109\n",
              "</td>\n",
              "<td>\n",
              "111\n",
              "</td>\n",
              "<td>\n",
              "11\n",
              "</td>\n",
              "<td>\n",
              "1\n",
              "</td>\n",
              "</tr>\n",
              "<tr>\n",
              "<td>\n",
              "3\n",
              "</td>\n",
              "<td>\n",
              "&quot;Beyoncé&quot;\n",
              "</td>\n",
              "<td>\n",
              "&quot;Beyoncé Gisell...\n",
              "</td>\n",
              "<td>\n",
              "&quot;56bf6b0f3aeaaa...\n",
              "</td>\n",
              "<td>\n",
              "&quot;In what city a...\n",
              "</td>\n",
              "<td>\n",
              "&quot;[{&#x27;text&#x27;: &#x27;Hou...\n",
              "</td>\n",
              "<td>\n",
              "false\n",
              "</td>\n",
              "<td>\n",
              "1\n",
              "</td>\n",
              "<td>\n",
              "&quot;{&#x27;text&#x27;: &#x27;Hous...\n",
              "</td>\n",
              "<td>\n",
              "&quot;Houston, Texas...\n",
              "</td>\n",
              "<td>\n",
              "166\n",
              "</td>\n",
              "<td>\n",
              "&quot;Beyoncé  Beyon...\n",
              "</td>\n",
              "<td>\n",
              "109\n",
              "</td>\n",
              "<td>\n",
              "111\n",
              "</td>\n",
              "<td>\n",
              "11\n",
              "</td>\n",
              "<td>\n",
              "2\n",
              "</td>\n",
              "</tr>\n",
              "<tr>\n",
              "<td>\n",
              "4\n",
              "</td>\n",
              "<td>\n",
              "&quot;Beyoncé&quot;\n",
              "</td>\n",
              "<td>\n",
              "&quot;Beyoncé Gisell...\n",
              "</td>\n",
              "<td>\n",
              "&quot;56bf6b0f3aeaaa...\n",
              "</td>\n",
              "<td>\n",
              "&quot;In which decad...\n",
              "</td>\n",
              "<td>\n",
              "&quot;[{&#x27;text&#x27;: &#x27;lat...\n",
              "</td>\n",
              "<td>\n",
              "false\n",
              "</td>\n",
              "<td>\n",
              "1\n",
              "</td>\n",
              "<td>\n",
              "&quot;{&#x27;text&#x27;: &#x27;late...\n",
              "</td>\n",
              "<td>\n",
              "&quot;late 1990s&quot;\n",
              "</td>\n",
              "<td>\n",
              "276\n",
              "</td>\n",
              "<td>\n",
              "&quot;Beyoncé  Beyon...\n",
              "</td>\n",
              "<td>\n",
              "109\n",
              "</td>\n",
              "<td>\n",
              "111\n",
              "</td>\n",
              "<td>\n",
              "7\n",
              "</td>\n",
              "<td>\n",
              "2\n",
              "</td>\n",
              "</tr>\n",
              "</tbody>\n",
              "</table>\n",
              "</div>"
            ]
          },
          "metadata": {},
          "execution_count": 162
        }
      ]
    },
    {
      "cell_type": "code",
      "execution_count": 163,
      "id": "731381de-e40e-4f2a-966b-bfd95e1e559c",
      "metadata": {
        "id": "731381de-e40e-4f2a-966b-bfd95e1e559c",
        "outputId": "7648cb29-bdf0-437a-db28-c415d79a2fc2",
        "colab": {
          "base_uri": "https://localhost:8080/",
          "height": 35
        }
      },
      "outputs": [
        {
          "output_type": "execute_result",
          "data": {
            "text/plain": [
              "'\\n<soc>  : start of context\\n<eoc>  : end of context\\n\\n<soq>  : start of questions\\n<eoq>  : end of questions\\n\\n<soa>  : start of answer\\n<eoa>  : end of answer\\n'"
            ],
            "application/vnd.google.colaboratory.intrinsic+json": {
              "type": "string"
            }
          },
          "metadata": {},
          "execution_count": 163
        }
      ],
      "source": [
        "# Adding start and end tokens \n",
        "'''\n",
        "<soc>  : start of context\n",
        "<eoc>  : end of context\n",
        "\n",
        "<soq>  : start of questions\n",
        "<eoq>  : end of questions\n",
        "\n",
        "<soa>  : start of answer\n",
        "<eoa>  : end of answer\n",
        "'''\n",
        "# df = df.with_columns([\n",
        "#     ('<SOC> ' + pl.col('newcontext') + ' <EOC>').alias('newcontext'),\n",
        "#     ('<SOQ> ' + pl.col('questions') + ' <EOQ>').alias('questions'),\n",
        "#     ('<SOA> ' + pl.col('answer_text') + ' <EOA>').alias('answer_text'),    \n",
        "# ])"
      ]
    },
    {
      "cell_type": "code",
      "source": [
        "df.head(5)"
      ],
      "metadata": {
        "colab": {
          "base_uri": "https://localhost:8080/",
          "height": 289
        },
        "id": "trpBHfxEw4Cj",
        "outputId": "74d55c8f-2c22-4160-aea0-3b68994441a4"
      },
      "id": "trpBHfxEw4Cj",
      "execution_count": 164,
      "outputs": [
        {
          "output_type": "execute_result",
          "data": {
            "text/plain": [
              "shape: (5, 16)\n",
              "┌─────┬─────────┬────────────┬────────────┬─────┬───────────┬────────────┬────────────┬────────────┐\n",
              "│     ┆ title   ┆ context    ┆ ids        ┆ ... ┆ context_l ┆ newcontext ┆ question_l ┆ answer_len │\n",
              "│ --- ┆ ---     ┆ ---        ┆ ---        ┆     ┆ en        ┆ _len       ┆ en         ┆ ---        │\n",
              "│ i64 ┆ str     ┆ str        ┆ str        ┆     ┆ ---       ┆ ---        ┆ ---        ┆ i64        │\n",
              "│     ┆         ┆            ┆            ┆     ┆ i64       ┆ i64        ┆ i64        ┆            │\n",
              "╞═════╪═════════╪════════════╪════════════╪═════╪═══════════╪════════════╪════════════╪════════════╡\n",
              "│ 0   ┆ Beyoncé ┆ Beyoncé    ┆ 56be85543a ┆ ... ┆ 109       ┆ 111        ┆ 6          ┆ 4          │\n",
              "│     ┆         ┆ Giselle    ┆ eaaa14008c ┆     ┆           ┆            ┆            ┆            │\n",
              "│     ┆         ┆ Knowles-Ca ┆ 9063       ┆     ┆           ┆            ┆            ┆            │\n",
              "│     ┆         ┆ rter (...  ┆            ┆     ┆           ┆            ┆            ┆            │\n",
              "│ 1   ┆ Beyoncé ┆ Beyoncé    ┆ 56be85543a ┆ ... ┆ 109       ┆ 111        ┆ 11         ┆ 3          │\n",
              "│     ┆         ┆ Giselle    ┆ eaaa14008c ┆     ┆           ┆            ┆            ┆            │\n",
              "│     ┆         ┆ Knowles-Ca ┆ 9065       ┆     ┆           ┆            ┆            ┆            │\n",
              "│     ┆         ┆ rter (...  ┆            ┆     ┆           ┆            ┆            ┆            │\n",
              "│ 2   ┆ Beyoncé ┆ Beyoncé    ┆ 56be85543a ┆ ... ┆ 109       ┆ 111        ┆ 11         ┆ 1          │\n",
              "│     ┆         ┆ Giselle    ┆ eaaa14008c ┆     ┆           ┆            ┆            ┆            │\n",
              "│     ┆         ┆ Knowles-Ca ┆ 9066       ┆     ┆           ┆            ┆            ┆            │\n",
              "│     ┆         ┆ rter (...  ┆            ┆     ┆           ┆            ┆            ┆            │\n",
              "│ 3   ┆ Beyoncé ┆ Beyoncé    ┆ 56bf6b0f3a ┆ ... ┆ 109       ┆ 111        ┆ 11         ┆ 2          │\n",
              "│     ┆         ┆ Giselle    ┆ eaaa14008c ┆     ┆           ┆            ┆            ┆            │\n",
              "│     ┆         ┆ Knowles-Ca ┆ 9601       ┆     ┆           ┆            ┆            ┆            │\n",
              "│     ┆         ┆ rter (...  ┆            ┆     ┆           ┆            ┆            ┆            │\n",
              "│ 4   ┆ Beyoncé ┆ Beyoncé    ┆ 56bf6b0f3a ┆ ... ┆ 109       ┆ 111        ┆ 7          ┆ 2          │\n",
              "│     ┆         ┆ Giselle    ┆ eaaa14008c ┆     ┆           ┆            ┆            ┆            │\n",
              "│     ┆         ┆ Knowles-Ca ┆ 9602       ┆     ┆           ┆            ┆            ┆            │\n",
              "│     ┆         ┆ rter (...  ┆            ┆     ┆           ┆            ┆            ┆            │\n",
              "└─────┴─────────┴────────────┴────────────┴─────┴───────────┴────────────┴────────────┴────────────┘"
            ],
            "text/html": [
              "<div>\n",
              "<style>\n",
              ".pl-dataframe > thead > tr > th {\n",
              "  text-align: right;\n",
              "}\n",
              "</style>\n",
              "\n",
              "<table border=\"1\" class=\"pl-dataframe\">\n",
              "<small>shape: (5, 16)</small>\n",
              "<thead>\n",
              "<tr>\n",
              "<th>\n",
              "\n",
              "</th>\n",
              "<th>\n",
              "title\n",
              "</th>\n",
              "<th>\n",
              "context\n",
              "</th>\n",
              "<th>\n",
              "ids\n",
              "</th>\n",
              "<th>\n",
              "questions\n",
              "</th>\n",
              "<th>\n",
              "answers\n",
              "</th>\n",
              "<th>\n",
              "is_imposible\n",
              "</th>\n",
              "<th>\n",
              "anslen\n",
              "</th>\n",
              "<th>\n",
              "answers_clean\n",
              "</th>\n",
              "<th>\n",
              "answer_text\n",
              "</th>\n",
              "<th>\n",
              "answer_start\n",
              "</th>\n",
              "<th>\n",
              "newcontext\n",
              "</th>\n",
              "<th>\n",
              "context_len\n",
              "</th>\n",
              "<th>\n",
              "newcontext_len\n",
              "</th>\n",
              "<th>\n",
              "question_len\n",
              "</th>\n",
              "<th>\n",
              "answer_len\n",
              "</th>\n",
              "</tr>\n",
              "<tr>\n",
              "<td>\n",
              "i64\n",
              "</td>\n",
              "<td>\n",
              "str\n",
              "</td>\n",
              "<td>\n",
              "str\n",
              "</td>\n",
              "<td>\n",
              "str\n",
              "</td>\n",
              "<td>\n",
              "str\n",
              "</td>\n",
              "<td>\n",
              "str\n",
              "</td>\n",
              "<td>\n",
              "bool\n",
              "</td>\n",
              "<td>\n",
              "i64\n",
              "</td>\n",
              "<td>\n",
              "str\n",
              "</td>\n",
              "<td>\n",
              "str\n",
              "</td>\n",
              "<td>\n",
              "i64\n",
              "</td>\n",
              "<td>\n",
              "str\n",
              "</td>\n",
              "<td>\n",
              "i64\n",
              "</td>\n",
              "<td>\n",
              "i64\n",
              "</td>\n",
              "<td>\n",
              "i64\n",
              "</td>\n",
              "<td>\n",
              "i64\n",
              "</td>\n",
              "</tr>\n",
              "</thead>\n",
              "<tbody>\n",
              "<tr>\n",
              "<td>\n",
              "0\n",
              "</td>\n",
              "<td>\n",
              "&quot;Beyoncé&quot;\n",
              "</td>\n",
              "<td>\n",
              "&quot;Beyoncé Gisell...\n",
              "</td>\n",
              "<td>\n",
              "&quot;56be85543aeaaa...\n",
              "</td>\n",
              "<td>\n",
              "&quot;When did Beyon...\n",
              "</td>\n",
              "<td>\n",
              "&quot;[{&#x27;text&#x27;: &#x27;in ...\n",
              "</td>\n",
              "<td>\n",
              "false\n",
              "</td>\n",
              "<td>\n",
              "1\n",
              "</td>\n",
              "<td>\n",
              "&quot;{&#x27;text&#x27;: &#x27;in t...\n",
              "</td>\n",
              "<td>\n",
              "&quot;in the late 19...\n",
              "</td>\n",
              "<td>\n",
              "269\n",
              "</td>\n",
              "<td>\n",
              "&quot;Beyoncé  Beyon...\n",
              "</td>\n",
              "<td>\n",
              "109\n",
              "</td>\n",
              "<td>\n",
              "111\n",
              "</td>\n",
              "<td>\n",
              "6\n",
              "</td>\n",
              "<td>\n",
              "4\n",
              "</td>\n",
              "</tr>\n",
              "<tr>\n",
              "<td>\n",
              "1\n",
              "</td>\n",
              "<td>\n",
              "&quot;Beyoncé&quot;\n",
              "</td>\n",
              "<td>\n",
              "&quot;Beyoncé Gisell...\n",
              "</td>\n",
              "<td>\n",
              "&quot;56be85543aeaaa...\n",
              "</td>\n",
              "<td>\n",
              "&quot;What areas did...\n",
              "</td>\n",
              "<td>\n",
              "&quot;[{&#x27;text&#x27;: &#x27;sin...\n",
              "</td>\n",
              "<td>\n",
              "false\n",
              "</td>\n",
              "<td>\n",
              "1\n",
              "</td>\n",
              "<td>\n",
              "&quot;{&#x27;text&#x27;: &#x27;sing...\n",
              "</td>\n",
              "<td>\n",
              "&quot;singing and da...\n",
              "</td>\n",
              "<td>\n",
              "207\n",
              "</td>\n",
              "<td>\n",
              "&quot;Beyoncé  Beyon...\n",
              "</td>\n",
              "<td>\n",
              "109\n",
              "</td>\n",
              "<td>\n",
              "111\n",
              "</td>\n",
              "<td>\n",
              "11\n",
              "</td>\n",
              "<td>\n",
              "3\n",
              "</td>\n",
              "</tr>\n",
              "<tr>\n",
              "<td>\n",
              "2\n",
              "</td>\n",
              "<td>\n",
              "&quot;Beyoncé&quot;\n",
              "</td>\n",
              "<td>\n",
              "&quot;Beyoncé Gisell...\n",
              "</td>\n",
              "<td>\n",
              "&quot;56be85543aeaaa...\n",
              "</td>\n",
              "<td>\n",
              "&quot;When did Beyon...\n",
              "</td>\n",
              "<td>\n",
              "&quot;[{&#x27;text&#x27;: &#x27;200...\n",
              "</td>\n",
              "<td>\n",
              "false\n",
              "</td>\n",
              "<td>\n",
              "1\n",
              "</td>\n",
              "<td>\n",
              "&quot;{&#x27;text&#x27;: &#x27;2003...\n",
              "</td>\n",
              "<td>\n",
              "&quot;2003&quot;\n",
              "</td>\n",
              "<td>\n",
              "526\n",
              "</td>\n",
              "<td>\n",
              "&quot;Beyoncé  Beyon...\n",
              "</td>\n",
              "<td>\n",
              "109\n",
              "</td>\n",
              "<td>\n",
              "111\n",
              "</td>\n",
              "<td>\n",
              "11\n",
              "</td>\n",
              "<td>\n",
              "1\n",
              "</td>\n",
              "</tr>\n",
              "<tr>\n",
              "<td>\n",
              "3\n",
              "</td>\n",
              "<td>\n",
              "&quot;Beyoncé&quot;\n",
              "</td>\n",
              "<td>\n",
              "&quot;Beyoncé Gisell...\n",
              "</td>\n",
              "<td>\n",
              "&quot;56bf6b0f3aeaaa...\n",
              "</td>\n",
              "<td>\n",
              "&quot;In what city a...\n",
              "</td>\n",
              "<td>\n",
              "&quot;[{&#x27;text&#x27;: &#x27;Hou...\n",
              "</td>\n",
              "<td>\n",
              "false\n",
              "</td>\n",
              "<td>\n",
              "1\n",
              "</td>\n",
              "<td>\n",
              "&quot;{&#x27;text&#x27;: &#x27;Hous...\n",
              "</td>\n",
              "<td>\n",
              "&quot;Houston, Texas...\n",
              "</td>\n",
              "<td>\n",
              "166\n",
              "</td>\n",
              "<td>\n",
              "&quot;Beyoncé  Beyon...\n",
              "</td>\n",
              "<td>\n",
              "109\n",
              "</td>\n",
              "<td>\n",
              "111\n",
              "</td>\n",
              "<td>\n",
              "11\n",
              "</td>\n",
              "<td>\n",
              "2\n",
              "</td>\n",
              "</tr>\n",
              "<tr>\n",
              "<td>\n",
              "4\n",
              "</td>\n",
              "<td>\n",
              "&quot;Beyoncé&quot;\n",
              "</td>\n",
              "<td>\n",
              "&quot;Beyoncé Gisell...\n",
              "</td>\n",
              "<td>\n",
              "&quot;56bf6b0f3aeaaa...\n",
              "</td>\n",
              "<td>\n",
              "&quot;In which decad...\n",
              "</td>\n",
              "<td>\n",
              "&quot;[{&#x27;text&#x27;: &#x27;lat...\n",
              "</td>\n",
              "<td>\n",
              "false\n",
              "</td>\n",
              "<td>\n",
              "1\n",
              "</td>\n",
              "<td>\n",
              "&quot;{&#x27;text&#x27;: &#x27;late...\n",
              "</td>\n",
              "<td>\n",
              "&quot;late 1990s&quot;\n",
              "</td>\n",
              "<td>\n",
              "276\n",
              "</td>\n",
              "<td>\n",
              "&quot;Beyoncé  Beyon...\n",
              "</td>\n",
              "<td>\n",
              "109\n",
              "</td>\n",
              "<td>\n",
              "111\n",
              "</td>\n",
              "<td>\n",
              "7\n",
              "</td>\n",
              "<td>\n",
              "2\n",
              "</td>\n",
              "</tr>\n",
              "</tbody>\n",
              "</table>\n",
              "</div>"
            ]
          },
          "metadata": {},
          "execution_count": 164
        }
      ]
    },
    {
      "cell_type": "markdown",
      "id": "01eb71e8-2734-4bda-99d0-73e74dce3a22",
      "metadata": {
        "tags": [],
        "id": "01eb71e8-2734-4bda-99d0-73e74dce3a22"
      },
      "source": [
        "# Vectorization"
      ]
    },
    {
      "cell_type": "code",
      "execution_count": 165,
      "id": "3765a298-cd36-4a6d-b990-841c8cb34b35",
      "metadata": {
        "id": "3765a298-cd36-4a6d-b990-841c8cb34b35"
      },
      "outputs": [],
      "source": [
        "from tensorflow.keras.layers import TextVectorization, Embedding"
      ]
    },
    {
      "cell_type": "code",
      "execution_count": 166,
      "id": "b448fb51-a770-4c09-ba8b-f61105772e9b",
      "metadata": {
        "id": "b448fb51-a770-4c09-ba8b-f61105772e9b"
      },
      "outputs": [],
      "source": [
        "# we will be using universal sentence encoder for vectorization and embedding\n",
        "##download_USEncoder() # safety"
      ]
    },
    {
      "cell_type": "code",
      "execution_count": 167,
      "id": "3c713cfa-a32e-4315-9323-ac8a244385a8",
      "metadata": {
        "id": "3c713cfa-a32e-4315-9323-ac8a244385a8"
      },
      "outputs": [],
      "source": [
        "embed = hub.KerasLayer(\"./universal_sentence_encoder\")"
      ]
    },
    {
      "cell_type": "markdown",
      "source": [
        "> **Note:** when using Univesal sentence encoder a == A but <a\\> != a . This means `use` does not strip signs. GOOD NEWS"
      ],
      "metadata": {
        "id": "SPlEe3Uqt8qA"
      },
      "id": "SPlEe3Uqt8qA"
    },
    {
      "cell_type": "code",
      "execution_count": 168,
      "id": "6a64c24e-1bd7-489d-95df-0c177ef52c29",
      "metadata": {
        "id": "6a64c24e-1bd7-489d-95df-0c177ef52c29",
        "outputId": "02c642cd-d1d7-4bd4-d1a1-c082abe7d0e8",
        "colab": {
          "base_uri": "https://localhost:8080/"
        }
      },
      "outputs": [
        {
          "output_type": "stream",
          "name": "stdout",
          "text": [
            "tf.Tensor(\n",
            "[[ 2  0  0  0  0  0]\n",
            " [ 2  0  0  0  0  0]\n",
            " [ 2  0  0  0  0  0]\n",
            " [15 12 16  6  0  0]\n",
            " [ 8 14  5 18  0  0]\n",
            " [ 4 13 10  3 11  0]\n",
            " [ 4 17  9  2  7  3]], shape=(7, 6), dtype=int64)\n",
            "senetence embedding tf.Tensor(\n",
            "[[ 0.03134873 -0.03212241 -0.02605016 ... -0.05512378  0.01821145\n",
            "  -0.0629246 ]\n",
            " [-0.03478366 -0.06121081  0.01487271 ... -0.08291933  0.02704698\n",
            "   0.02225077]\n",
            " [-0.03478366 -0.06121081  0.01487271 ... -0.08291933  0.02704698\n",
            "   0.02225077]\n",
            " ...\n",
            " [-0.08415681 -0.08687922  0.03446117 ... -0.01439389 -0.04546221\n",
            "   0.03639964]\n",
            " [ 0.0816019  -0.01570276 -0.05659244 ... -0.07133698  0.11040761\n",
            "  -0.0071095 ]\n",
            " [-0.00369537  0.03064634 -0.05556112 ...  0.01751421  0.03164959\n",
            "  -0.05139377]], shape=(7, 512), dtype=float32)\n"
          ]
        }
      ],
      "source": [
        "\n",
        "Sentences = [\n",
        "    '<a>', 'a', 'A',            \n",
        "    \"How <old> are you\",\n",
        "    \"What is your age\",\n",
        "    \"I love to watch Television\",\n",
        "    \"I am wearing a wrist watch\"\n",
        "]\n",
        "text_vectorizer = TextVectorization(max_tokens=30)\n",
        "text_vectorizer.adapt(Sentences)\n",
        "vect_layer = text_vectorizer(Sentences)\n",
        "print(vect_layer)\n",
        "\n",
        "embeddings = embed(Sentences)\n",
        "  \n",
        "print('senetence embedding',embeddings)\n"
      ]
    },
    {
      "cell_type": "markdown",
      "source": [
        "# Preparing Dataset using `tf.data` api"
      ],
      "metadata": {
        "id": "b6643013-2e09-4f5b-a019-01cd92d39854"
      },
      "id": "b6643013-2e09-4f5b-a019-01cd92d39854"
    },
    {
      "cell_type": "code",
      "execution_count": 169,
      "id": "40b71bb6-9bb3-44bb-8175-75f051d7d638",
      "metadata": {
        "id": "40b71bb6-9bb3-44bb-8175-75f051d7d638"
      },
      "outputs": [],
      "source": [
        "from sklearn.model_selection import train_test_split"
      ]
    },
    {
      "cell_type": "code",
      "source": [
        "xtrain , xtest, ytrain, ytest = train_test_split(df[['newcontext', 'questions']], df['answer_text'], test_size = .02, random_state = 5)\n",
        "xtrain , xval, ytrain, yval = train_test_split(xtrain, ytrain, test_size = .02, random_state = 5)"
      ],
      "metadata": {
        "id": "X3XR_t2wzTbi"
      },
      "id": "X3XR_t2wzTbi",
      "execution_count": 170,
      "outputs": []
    },
    {
      "cell_type": "code",
      "source": [
        "print(f'Xtrain: {xtrain.shape} :: ytrain: {ytrain.shape}')\n",
        "print(f'Xval:   {xval.shape}  :: yval: {yval.shape}')\n",
        "print(f'Xtest:  {xtest.shape}  :: ytest: {ytest.shape}')"
      ],
      "metadata": {
        "colab": {
          "base_uri": "https://localhost:8080/"
        },
        "id": "5mi0v2BB0HlO",
        "outputId": "40ae1aca-eb3d-4a72-a458-c2ccfa77022d"
      },
      "id": "5mi0v2BB0HlO",
      "execution_count": 171,
      "outputs": [
        {
          "output_type": "stream",
          "name": "stdout",
          "text": [
            "Xtrain: (83382, 2) :: ytrain: (83382,)\n",
            "Xval:   (1702, 2)  :: yval: (1702,)\n",
            "Xtest:  (1737, 2)  :: ytest: (1737,)\n"
          ]
        }
      ]
    },
    {
      "cell_type": "code",
      "source": [
        "# Train data\n",
        "train_feat = tf.data.Dataset.from_tensor_slices((xtrain['newcontext'].to_list(), xtrain['questions'].to_list()))\n",
        "train_response = tf.data.Dataset.from_tensor_slices((ytrain))\n",
        "train_data = tf.data.Dataset.zip((train_feat, train_response))\n",
        "\n",
        "# Test data\n",
        "test_feat = tf.data.Dataset.from_tensor_slices((xtest['newcontext'].to_list(), xtest['questions'].to_list()))\n",
        "test_response = tf.data.Dataset.from_tensor_slices((ytest))\n",
        "test_data = tf.data.Dataset.zip((test_feat, test_response))\n",
        "\n",
        "# Val data\n",
        "val_feat = tf.data.Dataset.from_tensor_slices((xval['newcontext'].to_list(), xval['questions'].to_list()))\n",
        "val_response = tf.data.Dataset.from_tensor_slices((yval))\n",
        "val_data = tf.data.Dataset.zip((val_feat, val_response))"
      ],
      "metadata": {
        "id": "9KcGwDmC2dn7"
      },
      "id": "9KcGwDmC2dn7",
      "execution_count": 172,
      "outputs": []
    },
    {
      "cell_type": "code",
      "source": [
        "# preprocessing text\n",
        "def tf_lower_and_split_punct(text):\n",
        "  # Split accented characters.\n",
        "  text = tf_text.normalize_utf8(text, 'NFKD')\n",
        "  text = tf.strings.lower(text)\n",
        "  # Keep space, a to z, and select punctuation.\n",
        "  text = tf.strings.regex_replace(text, '[^ a-z.?!,¿]', '')\n",
        "  # Add spaces around punctuation.\n",
        "  text = tf.strings.regex_replace(text, '[.?!,¿]', r' \\0 ')\n",
        "  # Strip whitespace.\n",
        "  text = tf.strings.strip(text)\n",
        "\n",
        "  text = tf.strings.join(['[START]', text, '[END]'], separator=' ')\n",
        "  return text\n"
      ],
      "metadata": {
        "id": "c0ruBVttnZir"
      },
      "id": "c0ruBVttnZir",
      "execution_count": 173,
      "outputs": []
    },
    {
      "cell_type": "code",
      "source": [
        "for i in train_feat.take(1):\n",
        "    print(i)"
      ],
      "metadata": {
        "id": "FZpmxRp7yj8e",
        "outputId": "9a4eeae8-1808-4576-ee79-3c39f59f80f9",
        "colab": {
          "base_uri": "https://localhost:8080/"
        }
      },
      "id": "FZpmxRp7yj8e",
      "execution_count": 174,
      "outputs": [
        {
          "output_type": "stream",
          "name": "stdout",
          "text": [
            "(<tf.Tensor: shape=(), dtype=string, numpy=b\"Labour_Party_(UK)  Blair announced in September 2006 that he would quit as leader within the year, though he had been under pressure to quit earlier than May 2007 in order to get a new leader in place before the May elections which were expected to be disastrous for Labour. In the event, the party did lose power in Scotland to a minority Scottish National Party government at the 2007 elections and, shortly after this, Blair resigned as Prime Minister and was replaced by his Chancellor, Gordon Brown. Although the party experienced a brief rise in the polls after this, its popularity soon slumped to its lowest level since the days of Michael Foot. During May 2008, Labour suffered heavy defeats in the London mayoral election, local elections and the loss in the Crewe and Nantwich by-election, culminating in the party registering its worst ever opinion poll result since records began in 1943, of 23%, with many citing Brown's leadership as a key factor. Membership of the party also reached a low ebb, falling to 156,205 by the end of 2009: over 40 per cent of the 405,000 peak reached in 1997 and thought to be the lowest total since the party was founded.\">, <tf.Tensor: shape=(), dtype=string, numpy=b'Who did Labour lose power in the election to?'>)\n"
          ]
        }
      ]
    },
    {
      "cell_type": "code",
      "execution_count": 175,
      "id": "09921bb6-df07-4269-a95b-bb6474e2185c",
      "metadata": {
        "id": "09921bb6-df07-4269-a95b-bb6474e2185c"
      },
      "outputs": [],
      "source": [
        "BATCH_SIZE = 32\n",
        "\n",
        "# prefetching \n",
        "train_data = train_data.batch(BATCH_SIZE).prefetch(tf.data.AUTOTUNE)\n",
        "val_data = val_data.batch(BATCH_SIZE).prefetch(tf.data.AUTOTUNE)\n",
        "test_data = test_data.batch(BATCH_SIZE).prefetch(tf.data.AUTOTUNE)\n"
      ]
    },
    {
      "cell_type": "code",
      "source": [
        "example_text = tf.constant('¿Todavía está en casa?')\n",
        "\n",
        "print(example_text.numpy())\n",
        "print(tf_text.normalize_utf8(example_text, 'NFKD').numpy())"
      ],
      "metadata": {
        "id": "bcM5JrW6nn3a",
        "outputId": "cce100ac-620c-49a0-fab7-b6a8512714f5",
        "colab": {
          "base_uri": "https://localhost:8080/"
        }
      },
      "id": "bcM5JrW6nn3a",
      "execution_count": 176,
      "outputs": [
        {
          "output_type": "stream",
          "name": "stdout",
          "text": [
            "b'\\xc2\\xbfTodav\\xc3\\xada est\\xc3\\xa1 en casa?'\n",
            "b'\\xc2\\xbfTodavi\\xcc\\x81a esta\\xcc\\x81 en casa?'\n"
          ]
        }
      ]
    },
    {
      "cell_type": "markdown",
      "source": [
        "# Vectorization"
      ],
      "metadata": {
        "id": "ltt-NmCPz4Z-"
      },
      "id": "ltt-NmCPz4Z-"
    },
    {
      "cell_type": "code",
      "source": [
        "from tensorflow.keras.layers import TextVectorization"
      ],
      "metadata": {
        "id": "peZunnN5z-iw"
      },
      "id": "peZunnN5z-iw",
      "execution_count": 177,
      "outputs": []
    },
    {
      "cell_type": "code",
      "source": [
        "# MAX_TOKENS = 10_000\n",
        "OUTPUT_SEQUENCE_LENGTH = 2_000"
      ],
      "metadata": {
        "id": "MOwpjWm30nXS"
      },
      "id": "MOwpjWm30nXS",
      "execution_count": 178,
      "outputs": []
    },
    {
      "cell_type": "code",
      "source": [
        "vectorizer = TextVectorization( standardize = tf_lower_and_split_punct, output_sequence_length=OUTPUT_SEQUENCE_LENGTH,\n",
        "                                pad_to_max_tokens = True)"
      ],
      "metadata": {
        "id": "3LRIe15A0FuA"
      },
      "id": "3LRIe15A0FuA",
      "execution_count": 179,
      "outputs": []
    },
    {
      "cell_type": "code",
      "source": [
        "# %%timeit\n",
        "# takes 1.30 minutes\n",
        "vectorizer.adapt(train_feat)"
      ],
      "metadata": {
        "id": "cWxA5QMm0Gpc"
      },
      "id": "cWxA5QMm0Gpc",
      "execution_count": 180,
      "outputs": []
    },
    {
      "cell_type": "code",
      "source": [
        "sent = 'what is my name? beyonce'"
      ],
      "metadata": {
        "id": "s75bbqca0Gmy"
      },
      "id": "s75bbqca0Gmy",
      "execution_count": 181,
      "outputs": []
    },
    {
      "cell_type": "code",
      "source": [
        "vectorizer(sent)"
      ],
      "metadata": {
        "id": "9yGuLuNd0Gkb",
        "outputId": "b16b464c-5aea-4fac-c9c9-c3145c34e94e",
        "colab": {
          "base_uri": "https://localhost:8080/"
        }
      },
      "id": "9yGuLuNd0Gkb",
      "execution_count": 182,
      "outputs": [
        {
          "output_type": "execute_result",
          "data": {
            "text/plain": [
              "<tf.Tensor: shape=(2000,), dtype=int64, numpy=array([10, 22, 12, ...,  0,  0,  0])>"
            ]
          },
          "metadata": {},
          "execution_count": 182
        }
      ]
    },
    {
      "cell_type": "code",
      "source": [
        "print('Total vectorized words:',len(vectorizer.get_vocabulary()))"
      ],
      "metadata": {
        "id": "ZZ8Ci5tg5Bvd",
        "outputId": "0635413a-d9ef-4cb9-aa21-1f6406cf266c",
        "colab": {
          "base_uri": "https://localhost:8080/"
        }
      },
      "id": "ZZ8Ci5tg5Bvd",
      "execution_count": 189,
      "outputs": [
        {
          "output_type": "stream",
          "name": "stdout",
          "text": [
            "Total vectorized words 10000\n"
          ]
        }
      ]
    },
    {
      "cell_type": "code",
      "source": [
        "from tensorflow.keras.layers import StringLookup"
      ],
      "metadata": {
        "id": "8TT6t6Zn54Ji"
      },
      "id": "8TT6t6Zn54Ji",
      "execution_count": 190,
      "outputs": []
    },
    {
      "cell_type": "code",
      "source": [
        "# Lookup table to convert strings to indices and vice versa \n",
        "str_to_idx = StringLookup(vocabulary=vectorizer.get_vocabulary(), oov_token='[UNK]')    \n",
        "idx_to_str = StringLookup(vocabulary=vectorizer.get_vocabulary(), oov_token='[UNK2]', invert = True)    "
      ],
      "metadata": {
        "id": "_J9aMhN15x-c"
      },
      "id": "_J9aMhN15x-c",
      "execution_count": 205,
      "outputs": []
    },
    {
      "cell_type": "markdown",
      "source": [
        "# Model"
      ],
      "metadata": {
        "id": "fdea4772-23e2-403e-bddc-67075c48d42c"
      },
      "id": "fdea4772-23e2-403e-bddc-67075c48d42c"
    },
    {
      "cell_type": "code",
      "source": [
        "class Model(tf.keras.Model):\n",
        "\n",
        "    def __init__(self, vectorizer, embedding_dim = 32):\n",
        "        super().__init__()\n",
        "\n",
        "        self.vectorizer = vectorizer \n",
        "        self.embedding_dim = embedding_dim\n",
        "\n",
        "    \n",
        "    def call(self):\n",
        "        pass\n",
        "\n"
      ],
      "metadata": {
        "id": "nWc8wuxHqwtp"
      },
      "id": "nWc8wuxHqwtp",
      "execution_count": 208,
      "outputs": []
    },
    {
      "cell_type": "code",
      "source": [
        "UNITS = 32\n",
        "output_dim =512 # universal sentence encoder embeddes is 512 many dimensions\n",
        "\n",
        "# Define the encoder\n",
        "encoder_inputs = Input(shape = [], dtype = tf.string, name= 'context_inputs')\n",
        "print(encoder_inputs.shape)\n",
        "embed_layer1 = embed(encoder_inputs)\n",
        "embed_layer1 = tf.expand_dims(embed_layer1, axis = 1)\n",
        "\n",
        "print(embed_layer1.shape)\n",
        "encoder = LSTM(UNITS, return_state=True)\n",
        "\n",
        "encoder_outputs, state_h, state_c = encoder(embed_layer1)\n",
        "encoder_states = [state_h, state_c]\n",
        "\n",
        "# Define the decoder\n",
        "decoder_inputs = Input(shape = [], dtype = tf.string, name= 'question_inputs')\n",
        "embed_layer2 = embed(decoder_inputs)\n",
        "embed_layer2 = tf.expand_dims(embed_layer2, axis = 1)\n",
        "\n",
        "\n",
        "decoder_lstm = LSTM( UNITS, return_sequences=True, return_state=True)\n",
        "decoder_outputs, _, _ = decoder_lstm(embed_layer2, initial_state=encoder_states)\n",
        "attention = Attention()([decoder_outputs, encoder_outputs])\n",
        "decoder_dense = Dense(output_dim, activation='softmax')\n",
        "decoder_outputs = decoder_dense(attention)\n",
        "\n",
        "# Define the model\n",
        "model = tf.keras.models.Model([encoder_inputs, decoder_inputs], decoder_outputs)\n",
        "\n",
        "# Compile and fit the model\n",
        "model.compile(optimizer='adam', loss='categorical_crossentropy')\n"
      ],
      "metadata": {
        "id": "oIDIJRfjunPu",
        "outputId": "475a10f5-3219-45b4-f528-586060e56905",
        "colab": {
          "base_uri": "https://localhost:8080/"
        }
      },
      "id": "oIDIJRfjunPu",
      "execution_count": 184,
      "outputs": [
        {
          "output_type": "stream",
          "name": "stdout",
          "text": [
            "(None,)\n",
            "(None, 1, 512)\n"
          ]
        }
      ]
    },
    {
      "cell_type": "code",
      "source": [
        "EPOCHS = 2"
      ],
      "metadata": {
        "id": "TQXOVpQj2zyI"
      },
      "id": "TQXOVpQj2zyI",
      "execution_count": 185,
      "outputs": []
    },
    {
      "cell_type": "code",
      "source": [
        "# model.fit(train_data, epochs=EPOCHS)"
      ],
      "metadata": {
        "id": "3EbvuhOP2nsv"
      },
      "id": "3EbvuhOP2nsv",
      "execution_count": 186,
      "outputs": []
    }
  ],
  "metadata": {
    "kernelspec": {
      "display_name": "Python 3",
      "name": "python3"
    },
    "language_info": {
      "name": "python"
    },
    "colab": {
      "provenance": [],
      "include_colab_link": true
    },
    "gpuClass": "standard"
  },
  "nbformat": 4,
  "nbformat_minor": 5
}